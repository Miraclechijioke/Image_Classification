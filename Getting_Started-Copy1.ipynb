{
 "cells": [
  {
   "cell_type": "markdown",
   "metadata": {},
   "source": [
    "# 1. Install Dependencies and Setup"
   ]
  },
  {
   "cell_type": "code",
   "execution_count": null,
   "metadata": {
    "tags": []
   },
   "outputs": [],
   "source": [
    "!pip install tensorflow tensorflow-gpu opencv-python matplotlib.pyplot"
   ]
  },
  {
   "cell_type": "code",
   "execution_count": null,
   "metadata": {},
   "outputs": [],
   "source": [
    "!pip install tensorflow-gpu"
   ]
  },
  {
   "cell_type": "code",
   "execution_count": null,
   "metadata": {
    "tags": []
   },
   "outputs": [],
   "source": [
    "!pip list"
   ]
  },
  {
   "cell_type": "code",
   "execution_count": 1,
   "metadata": {},
   "outputs": [],
   "source": [
    "import tensorflow as tf\n",
    "import os"
   ]
  },
  {
   "cell_type": "code",
   "execution_count": null,
   "metadata": {},
   "outputs": [],
   "source": [
    "# Avoid OOM errors by setting GPU Memory Consumption Growth\n",
    "gpus = tf.config.experimental.list_physical_devices('GPU')\n",
    "for gpu in gpus: \n",
    "    tf.config.experimental.set_memory_growth(gpu, True)"
   ]
  },
  {
   "cell_type": "code",
   "execution_count": null,
   "metadata": {
    "tags": []
   },
   "outputs": [],
   "source": [
    "tf.config.list_physical_devices('GPU')"
   ]
  },
  {
   "cell_type": "markdown",
   "metadata": {},
   "source": [
    "# 2. Remove dodgy images"
   ]
  },
  {
   "cell_type": "code",
   "execution_count": 2,
   "metadata": {},
   "outputs": [],
   "source": [
    "import cv2\n",
    "import imghdr"
   ]
  },
  {
   "cell_type": "code",
   "execution_count": 3,
   "metadata": {},
   "outputs": [],
   "source": [
    "data_dir = 'cats and dogs-train'"
   ]
  },
  {
   "cell_type": "code",
   "execution_count": null,
   "metadata": {},
   "outputs": [],
   "source": [
    "image_exts = ['jpeg','jpg', 'bmp', 'png']"
   ]
  },
  {
   "cell_type": "code",
   "execution_count": null,
   "metadata": {
    "tags": []
   },
   "outputs": [],
   "source": [
    "# Loop through each class in the dataset directory\n",
    "for image_class in os.listdir(data_dir):  \n",
    "    # Loop through each image in the current class directory\n",
    "    for image in os.listdir(os.path.join(data_dir, image_class)):  \n",
    "        # Construct the full file path for the image\n",
    "        image_path = os.path.join(data_dir, image_class, image)  \n",
    "        try:\n",
    "            # Attempt to read the image using OpenCV\n",
    "            img = cv2.imread(image_path)  \n",
    "            # Check the image's file extension/type using imghdr\n",
    "            tip = imghdr.what(image_path)  \n",
    "            \n",
    "            # If the image's extension/type is not in the list of valid extensions\n",
    "            if tip not in image_exts:  \n",
    "                # Print a message indicating the image is invalid\n",
    "                print('Image not in ext list {}'.format(image_path))  \n",
    "                # Remove the invalid image from the directory\n",
    "                os.remove(image_path)  \n",
    "        except Exception as e:\n",
    "            # If an exception occurs (e.g., corrupted image), print the issue\n",
    "            print('Issue with image {}'.format(image_path))  \n",
    "            # os.remove(image_path)\n"
   ]
  },
  {
   "cell_type": "markdown",
   "metadata": {},
   "source": [
    "# 3. Load Data"
   ]
  },
  {
   "cell_type": "code",
   "execution_count": 4,
   "metadata": {},
   "outputs": [],
   "source": [
    "import numpy as np\n",
    "from matplotlib import pyplot as plt"
   ]
  },
  {
   "cell_type": "code",
   "execution_count": 5,
   "metadata": {},
   "outputs": [
    {
     "name": "stdout",
     "output_type": "stream",
     "text": [
      "Found 557 files belonging to 2 classes.\n"
     ]
    }
   ],
   "source": [
    "data = tf.keras.utils.image_dataset_from_directory(data_dir)"
   ]
  },
  {
   "cell_type": "code",
   "execution_count": 6,
   "metadata": {},
   "outputs": [],
   "source": [
    "data_iterator = data.as_numpy_iterator()"
   ]
  },
  {
   "cell_type": "code",
   "execution_count": 7,
   "metadata": {
    "tags": []
   },
   "outputs": [],
   "source": [
    "batch = data_iterator.next()"
   ]
  },
  {
   "cell_type": "code",
   "execution_count": 8,
   "metadata": {},
   "outputs": [
    {
     "data": {
      "text/plain": [
       "(32, 256, 256, 3)"
      ]
     },
     "execution_count": 8,
     "metadata": {},
     "output_type": "execute_result"
    }
   ],
   "source": [
    "batch[0].shape"
   ]
  },
  {
   "cell_type": "code",
   "execution_count": null,
   "metadata": {
    "scrolled": true,
    "tags": []
   },
   "outputs": [],
   "source": [
    "fig, ax = plt.subplots(ncols=4, figsize=(20,20))\n",
    "for idx, img in enumerate(batch[0][:4]):\n",
    "    ax[idx].imshow(img.astype(int))\n",
    "    ax[idx].title.set_text(batch[1][idx])"
   ]
  },
  {
   "cell_type": "markdown",
   "metadata": {},
   "source": [
    "# 4. Scale Data"
   ]
  },
  {
   "cell_type": "code",
   "execution_count": 9,
   "metadata": {
    "scrolled": true
   },
   "outputs": [],
   "source": [
    "data = data.map(lambda x,y: (x/255, y))"
   ]
  },
  {
   "cell_type": "code",
   "execution_count": 10,
   "metadata": {
    "scrolled": true,
    "tags": []
   },
   "outputs": [
    {
     "data": {
      "text/plain": [
       "(array([[[[0.35686275, 0.19215687, 0.12941177],\n",
       "          [0.36399356, 0.19928768, 0.13654259],\n",
       "          [0.36807096, 0.20336507, 0.14061998],\n",
       "          ...,\n",
       "          [0.5759141 , 0.4434386 , 0.33106115],\n",
       "          [0.5718367 , 0.43850338, 0.332621  ],\n",
       "          [0.5647059 , 0.43137255, 0.33333334]],\n",
       " \n",
       "         [[0.36799628, 0.20329039, 0.1405453 ],\n",
       "          [0.37433365, 0.20962776, 0.14688265],\n",
       "          [0.37825522, 0.21354933, 0.15080422],\n",
       "          ...,\n",
       "          [0.5860984 , 0.45362285, 0.3412454 ],\n",
       "          [0.5821768 , 0.44884345, 0.3429611 ],\n",
       "          [0.5758394 , 0.44250607, 0.34446687]],\n",
       " \n",
       "         [[0.37199253, 0.22297291, 0.14846312],\n",
       "          [0.37666184, 0.22764222, 0.15313242],\n",
       "          [0.3804709 , 0.2314513 , 0.15694149],\n",
       "          ...,\n",
       "          [0.5961572 , 0.4636817 , 0.35130423],\n",
       "          [0.5923481 , 0.45901477, 0.35313243],\n",
       "          [0.5876788 , 0.45434546, 0.35630625]],\n",
       " \n",
       "         ...,\n",
       " \n",
       "         [[0.7839537 , 0.7016008 , 0.61924785],\n",
       "          [0.7761106 , 0.69375765, 0.6114047 ],\n",
       "          [0.7878753 , 0.70552236, 0.6231694 ],\n",
       "          ...,\n",
       "          [0.68977696, 0.5956593 , 0.5015417 ],\n",
       "          [0.68235296, 0.5882353 , 0.49411765],\n",
       "          [0.66605395, 0.57193625, 0.47781864]],\n",
       " \n",
       "         [[0.78431374, 0.7137255 , 0.627451  ],\n",
       "          [0.77860755, 0.7080193 , 0.6217448 ],\n",
       "          [0.78478116, 0.7141929 , 0.6279184 ],\n",
       "          ...,\n",
       "          [0.68634343, 0.58438265, 0.4899127 ],\n",
       "          [0.6952529 , 0.5932921 , 0.50309604],\n",
       "          [0.67603403, 0.5740732 , 0.48387715]],\n",
       " \n",
       "         [[0.7921569 , 0.70980394, 0.627451  ],\n",
       "          [0.7921569 , 0.70980394, 0.627451  ],\n",
       "          [0.7969363 , 0.71458334, 0.6322304 ],\n",
       "          ...,\n",
       "          [0.6792892 , 0.5708333 , 0.46409315],\n",
       "          [0.69738054, 0.5954197 , 0.49738052],\n",
       "          [0.69160897, 0.5974913 , 0.5033737 ]]],\n",
       " \n",
       " \n",
       "        [[[0.83754283, 0.83754283, 0.83754283],\n",
       "          [0.85001534, 0.85001534, 0.85001534],\n",
       "          [0.83920085, 0.83920085, 0.83920085],\n",
       "          ...,\n",
       "          [0.84284616, 0.8389246 , 0.8232383 ],\n",
       "          [0.84229475, 0.8383732 , 0.8226869 ],\n",
       "          [0.84059453, 0.83667296, 0.8209867 ]],\n",
       " \n",
       "         [[0.8538052 , 0.8538052 , 0.8538052 ],\n",
       "          [0.9963267 , 0.9963267 , 0.9963267 ],\n",
       "          [0.9962621 , 0.9962621 , 0.9962621 ],\n",
       "          ...,\n",
       "          [0.99926543, 0.99879056, 0.9831043 ],\n",
       "          [0.99873173, 0.99552697, 0.9798407 ],\n",
       "          [0.85013485, 0.8462133 , 0.830527  ]],\n",
       " \n",
       "         [[0.8463695 , 0.8463695 , 0.8463695 ],\n",
       "          [0.9923713 , 0.9923713 , 0.9923713 ],\n",
       "          [0.9995251 , 0.9995251 , 0.9995251 ],\n",
       "          ...,\n",
       "          [0.9985754 , 0.9946538 , 0.97896755],\n",
       "          [0.995864  , 0.99379593, 0.97810966],\n",
       "          [0.8502911 , 0.8463695 , 0.83068323]],\n",
       " \n",
       "         ...,\n",
       " \n",
       "         [[0.8445465 , 0.8445465 , 0.8445465 ],\n",
       "          [0.9688419 , 0.9688419 , 0.9688419 ],\n",
       "          [0.9761645 , 0.9761645 , 0.9761645 ],\n",
       "          ...,\n",
       "          [0.98661125, 0.9826897 , 0.9670034 ],\n",
       "          [0.9776501 , 0.97372854, 0.95804226],\n",
       "          [0.8509804 , 0.84705883, 0.83137256]],\n",
       " \n",
       "         [[0.84430146, 0.84430146, 0.84430146],\n",
       "          [0.95893073, 0.95893073, 0.95893073],\n",
       "          [0.9628981 , 0.9628981 , 0.9628981 ],\n",
       "          ...,\n",
       "          [0.9809896 , 0.977068  , 0.96138173],\n",
       "          [0.97233456, 0.968413  , 0.9527267 ],\n",
       "          [0.8502911 , 0.8463695 , 0.83068323]],\n",
       " \n",
       "         [[0.83238965, 0.83238965, 0.83238965],\n",
       "          [0.86743873, 0.86743873, 0.86743873],\n",
       "          [0.8351114 , 0.8351114 , 0.8351114 ],\n",
       "          ...,\n",
       "          [0.8621783 , 0.85825676, 0.8425705 ],\n",
       "          [0.8629657 , 0.85904413, 0.84335786],\n",
       "          [0.8460662 , 0.8421446 , 0.82645833]]],\n",
       " \n",
       " \n",
       "        [[[1.        , 1.        , 1.        ],\n",
       "          [1.        , 1.        , 1.        ],\n",
       "          [1.        , 1.        , 1.        ],\n",
       "          ...,\n",
       "          [1.        , 1.        , 1.        ],\n",
       "          [1.        , 1.        , 1.        ],\n",
       "          [1.        , 1.        , 1.        ]],\n",
       " \n",
       "         [[1.        , 1.        , 1.        ],\n",
       "          [1.        , 1.        , 1.        ],\n",
       "          [1.        , 1.        , 1.        ],\n",
       "          ...,\n",
       "          [1.        , 1.        , 1.        ],\n",
       "          [1.        , 1.        , 1.        ],\n",
       "          [1.        , 1.        , 1.        ]],\n",
       " \n",
       "         [[1.        , 1.        , 1.        ],\n",
       "          [1.        , 1.        , 1.        ],\n",
       "          [1.        , 1.        , 1.        ],\n",
       "          ...,\n",
       "          [1.        , 1.        , 1.        ],\n",
       "          [1.        , 1.        , 1.        ],\n",
       "          [1.        , 1.        , 1.        ]],\n",
       " \n",
       "         ...,\n",
       " \n",
       "         [[1.        , 1.        , 1.        ],\n",
       "          [1.        , 1.        , 1.        ],\n",
       "          [1.        , 1.        , 1.        ],\n",
       "          ...,\n",
       "          [1.        , 1.        , 1.        ],\n",
       "          [1.        , 1.        , 1.        ],\n",
       "          [1.        , 1.        , 1.        ]],\n",
       " \n",
       "         [[1.        , 1.        , 1.        ],\n",
       "          [1.        , 1.        , 1.        ],\n",
       "          [1.        , 1.        , 1.        ],\n",
       "          ...,\n",
       "          [1.        , 1.        , 1.        ],\n",
       "          [1.        , 1.        , 1.        ],\n",
       "          [1.        , 1.        , 1.        ]],\n",
       " \n",
       "         [[1.        , 1.        , 1.        ],\n",
       "          [1.        , 1.        , 1.        ],\n",
       "          [1.        , 1.        , 1.        ],\n",
       "          ...,\n",
       "          [1.        , 1.        , 1.        ],\n",
       "          [1.        , 1.        , 1.        ],\n",
       "          [1.        , 1.        , 1.        ]]],\n",
       " \n",
       " \n",
       "        ...,\n",
       " \n",
       " \n",
       "        [[[0.6392157 , 0.8392157 , 0.85490197],\n",
       "          [0.6392157 , 0.8392157 , 0.85490197],\n",
       "          [0.6392157 , 0.8392157 , 0.85490197],\n",
       "          ...,\n",
       "          [0.89411765, 0.93333334, 0.9019608 ],\n",
       "          [0.8901961 , 0.93333334, 0.91764706],\n",
       "          [0.9019608 , 0.9254902 , 0.91764706]],\n",
       " \n",
       "         [[0.6392157 , 0.8392157 , 0.85490197],\n",
       "          [0.6392157 , 0.8392157 , 0.85490197],\n",
       "          [0.6392157 , 0.8392157 , 0.85490197],\n",
       "          ...,\n",
       "          [0.89411765, 0.93333334, 0.9019608 ],\n",
       "          [0.89411765, 0.92941177, 0.9098039 ],\n",
       "          [0.904902  , 0.9254902 , 0.9098039 ]],\n",
       " \n",
       "         [[0.6392157 , 0.8392157 , 0.85490197],\n",
       "          [0.63529414, 0.8352941 , 0.8509804 ],\n",
       "          [0.6392157 , 0.8392157 , 0.85490197],\n",
       "          ...,\n",
       "          [0.90588236, 0.9254902 , 0.9019608 ],\n",
       "          [0.9019608 , 0.92941177, 0.9019608 ],\n",
       "          [0.9117647 , 0.922549  , 0.9019608 ]],\n",
       " \n",
       "         ...,\n",
       " \n",
       "         [[0.43529412, 0.77254903, 0.76862746],\n",
       "          [0.43529412, 0.77254903, 0.76862746],\n",
       "          [0.43529412, 0.77254903, 0.76862746],\n",
       "          ...,\n",
       "          [0.91764706, 0.95686275, 0.9529412 ],\n",
       "          [0.91764706, 0.95686275, 0.9529412 ],\n",
       "          [0.91764706, 0.95686275, 0.9529412 ]],\n",
       " \n",
       "         [[0.43529412, 0.77254903, 0.76862746],\n",
       "          [0.44047183, 0.7777267 , 0.77380514],\n",
       "          [0.43529412, 0.77254903, 0.76862746],\n",
       "          ...,\n",
       "          [0.91764706, 0.95686275, 0.9529412 ],\n",
       "          [0.91764706, 0.95686275, 0.9529412 ],\n",
       "          [0.91764706, 0.95686275, 0.95482534]],\n",
       " \n",
       "         [[0.4392157 , 0.7764706 , 0.77254903],\n",
       "          [0.4392157 , 0.7764706 , 0.77254903],\n",
       "          [0.4392157 , 0.7764706 , 0.77254903],\n",
       "          ...,\n",
       "          [0.91764706, 0.95686275, 0.9529412 ],\n",
       "          [0.91764706, 0.95686275, 0.9529412 ],\n",
       "          [0.91764706, 0.95686275, 0.9647059 ]]],\n",
       " \n",
       " \n",
       "        [[[0.54901963, 0.48235294, 0.37254903],\n",
       "          [0.5491575 , 0.482284  , 0.37254903],\n",
       "          [0.5568628 , 0.47843137, 0.37254903],\n",
       "          ...,\n",
       "          [0.74532783, 0.6629749 , 0.4865043 ],\n",
       "          [0.74509805, 0.6627451 , 0.4862745 ],\n",
       "          [0.74509805, 0.6627451 , 0.4862745 ]],\n",
       " \n",
       "         [[0.55151653, 0.48484987, 0.37504596],\n",
       "          [0.5516544 , 0.48478094, 0.37504596],\n",
       "          [0.55928653, 0.48085517, 0.3749728 ],\n",
       "          ...,\n",
       "          [0.740334  , 0.657981  , 0.48151043],\n",
       "          [0.74010414, 0.6577512 , 0.48128062],\n",
       "          [0.74010414, 0.6577512 , 0.48128062]],\n",
       " \n",
       "         [[0.55448836, 0.4878217 , 0.37801778],\n",
       "          [0.5546262 , 0.48775277, 0.37801778],\n",
       "          [0.5622166 , 0.48378524, 0.37790287],\n",
       "          ...,\n",
       "          [0.73434496, 0.651992  , 0.47861582],\n",
       "          [0.73416054, 0.6518076 , 0.47843137],\n",
       "          [0.73416054, 0.6518076 , 0.47843137]],\n",
       " \n",
       "         ...,\n",
       " \n",
       "         [[0.11610895, 0.10042267, 0.05728541],\n",
       "          [0.11764706, 0.10196079, 0.05882353],\n",
       "          [0.11764706, 0.10196079, 0.05882353],\n",
       "          ...,\n",
       "          [0.63686234, 0.60834676, 0.616518  ],\n",
       "          [0.62620145, 0.6025904 , 0.6057664 ],\n",
       "          [0.6229348 , 0.5994054 , 0.6024997 ]],\n",
       " \n",
       "         [[0.11764706, 0.10196079, 0.05882353],\n",
       "          [0.11764706, 0.10196079, 0.05882353],\n",
       "          [0.11764706, 0.10196079, 0.05882353],\n",
       "          ...,\n",
       "          [0.6350958 , 0.6127298 , 0.60880053],\n",
       "          [0.63529414, 0.61318934, 0.60891545],\n",
       "          [0.63529414, 0.61318934, 0.60891545]],\n",
       " \n",
       "         [[0.11764706, 0.10196079, 0.05882353],\n",
       "          [0.11764706, 0.10196079, 0.05882353],\n",
       "          [0.11764706, 0.10196079, 0.05882353],\n",
       "          ...,\n",
       "          [0.63494945, 0.6152267 , 0.6038067 ],\n",
       "          [0.63529414, 0.6156863 , 0.6039216 ],\n",
       "          [0.63529414, 0.6156863 , 0.6039216 ]]],\n",
       " \n",
       " \n",
       "        [[[0.5019608 , 0.69411767, 0.85490197],\n",
       "          [0.50274205, 0.69411767, 0.85412073],\n",
       "          [0.5058824 , 0.69411767, 0.8509804 ],\n",
       "          ...,\n",
       "          [0.43393075, 0.5699602 , 0.7111213 ],\n",
       "          [0.41332722, 0.629856  , 0.7514093 ],\n",
       "          [0.38613665, 0.6541207 , 0.76810664]],\n",
       " \n",
       "         [[0.4999234 , 0.6880055 , 0.8508272 ],\n",
       "          [0.5002988 , 0.6884114 , 0.850046  ],\n",
       "          [0.5018076 , 0.6900429 , 0.84690565],\n",
       "          ...,\n",
       "          [0.43732905, 0.57063663, 0.7131587 ],\n",
       "          [0.41087598, 0.62333006, 0.7452892 ],\n",
       "          [0.3820619 , 0.6459712 , 0.75995713]],\n",
       " \n",
       "         [[0.4964767 , 0.67922795, 0.8431526 ],\n",
       "          [0.4964767 , 0.67985356, 0.842527  ],\n",
       "          [0.4964767 , 0.6823683 , 0.84001225],\n",
       "          ...,\n",
       "          [0.44229677, 0.5720435 , 0.7158241 ],\n",
       "          [0.40782475, 0.6149479 , 0.7379081 ],\n",
       "          [0.37746036, 0.6345801 , 0.7500766 ]],\n",
       " \n",
       "         ...,\n",
       " \n",
       "         [[0.4236352 , 0.39226267, 0.38049796],\n",
       "          [0.43578252, 0.4051912 , 0.39108276],\n",
       "          [0.40397483, 0.37652385, 0.35299444],\n",
       "          ...,\n",
       "          [0.42662376, 0.5871783 , 0.71787685],\n",
       "          [0.3528523 , 0.5437886 , 0.6604834 ],\n",
       "          [0.32839134, 0.53697914, 0.64050245]],\n",
       " \n",
       "         [[0.38123015, 0.3498576 , 0.3380929 ],\n",
       "          [0.45204607, 0.42145476, 0.4073463 ],\n",
       "          [0.4304007 , 0.40294972, 0.3794203 ],\n",
       "          ...,\n",
       "          [0.41721323, 0.5818474 , 0.7112874 ],\n",
       "          [0.34208015, 0.53658086, 0.6522747 ],\n",
       "          [0.316562  , 0.5310636 , 0.6320466 ]],\n",
       " \n",
       "         [[0.33408394, 0.3027114 , 0.2909467 ],\n",
       "          [0.4650582 , 0.4344669 , 0.42035845],\n",
       "          [0.4772365 , 0.44978553, 0.42625612],\n",
       "          ...,\n",
       "          [0.41041666, 0.5777727 , 0.70585173],\n",
       "          [0.33719364, 0.5325061 , 0.6477941 ],\n",
       "          [0.31058517, 0.5288909 , 0.6279718 ]]]], dtype=float32),\n",
       " array([0, 0, 1, 0, 0, 0, 1, 0, 1, 1, 1, 0, 0, 0, 1, 1, 0, 1, 1, 1, 0, 0,\n",
       "        0, 1, 0, 1, 0, 1, 1, 1, 0, 0]))"
      ]
     },
     "execution_count": 10,
     "metadata": {},
     "output_type": "execute_result"
    }
   ],
   "source": [
    "data.as_numpy_iterator().next()"
   ]
  },
  {
   "cell_type": "markdown",
   "metadata": {},
   "source": [
    "# 5. Split Data"
   ]
  },
  {
   "cell_type": "code",
   "execution_count": 11,
   "metadata": {},
   "outputs": [],
   "source": [
    "train_size = int(len(data)*.8)\n",
    "val_size = int(len(data)*.2)+1"
   ]
  },
  {
   "cell_type": "code",
   "execution_count": 12,
   "metadata": {},
   "outputs": [
    {
     "data": {
      "text/plain": [
       "14"
      ]
     },
     "execution_count": 12,
     "metadata": {},
     "output_type": "execute_result"
    }
   ],
   "source": [
    "train_size"
   ]
  },
  {
   "cell_type": "code",
   "execution_count": 13,
   "metadata": {},
   "outputs": [],
   "source": [
    "train = data.take(train_size)\n",
    "val = data.skip(train_size).take(val_size)"
   ]
  },
  {
   "cell_type": "markdown",
   "metadata": {},
   "source": [
    "# 6. Build Deep Learning Model"
   ]
  },
  {
   "cell_type": "code",
   "execution_count": 14,
   "metadata": {},
   "outputs": [
    {
     "data": {
      "text/plain": [
       "<TakeDataset element_spec=(TensorSpec(shape=(None, 256, 256, 3), dtype=tf.float32, name=None), TensorSpec(shape=(None,), dtype=tf.int32, name=None))>"
      ]
     },
     "execution_count": 14,
     "metadata": {},
     "output_type": "execute_result"
    }
   ],
   "source": [
    "train"
   ]
  },
  {
   "cell_type": "code",
   "execution_count": 15,
   "metadata": {},
   "outputs": [],
   "source": [
    "from tensorflow.keras.models import Sequential\n",
    "from tensorflow.keras.layers import Conv2D, MaxPooling2D, Dense, Flatten, Dropout"
   ]
  },
  {
   "cell_type": "code",
   "execution_count": 16,
   "metadata": {},
   "outputs": [],
   "source": [
    "model = Sequential()"
   ]
  },
  {
   "cell_type": "code",
   "execution_count": 17,
   "metadata": {},
   "outputs": [],
   "source": [
    "model.add(Conv2D(16, (3,3), 1, activation='relu', input_shape=(256,256,3)))\n",
    "model.add(MaxPooling2D())\n",
    "model.add(Conv2D(32, (3,3), 1, activation='relu'))\n",
    "model.add(MaxPooling2D())\n",
    "model.add(Conv2D(16, (3,3), 1, activation='relu'))\n",
    "model.add(MaxPooling2D())\n",
    "model.add(Flatten())\n",
    "model.add(Dense(256, activation='relu'))\n",
    "model.add(Dense(1, activation='sigmoid'))"
   ]
  },
  {
   "cell_type": "code",
   "execution_count": 18,
   "metadata": {},
   "outputs": [],
   "source": [
    "model.compile('adam', loss=tf.losses.BinaryCrossentropy(), metrics=['accuracy'])"
   ]
  },
  {
   "cell_type": "code",
   "execution_count": 19,
   "metadata": {
    "tags": []
   },
   "outputs": [
    {
     "name": "stdout",
     "output_type": "stream",
     "text": [
      "Model: \"sequential\"\n",
      "_________________________________________________________________\n",
      " Layer (type)                Output Shape              Param #   \n",
      "=================================================================\n",
      " conv2d (Conv2D)             (None, 254, 254, 16)      448       \n",
      "                                                                 \n",
      " max_pooling2d (MaxPooling2D  (None, 127, 127, 16)     0         \n",
      " )                                                               \n",
      "                                                                 \n",
      " conv2d_1 (Conv2D)           (None, 125, 125, 32)      4640      \n",
      "                                                                 \n",
      " max_pooling2d_1 (MaxPooling  (None, 62, 62, 32)       0         \n",
      " 2D)                                                             \n",
      "                                                                 \n",
      " conv2d_2 (Conv2D)           (None, 60, 60, 16)        4624      \n",
      "                                                                 \n",
      " max_pooling2d_2 (MaxPooling  (None, 30, 30, 16)       0         \n",
      " 2D)                                                             \n",
      "                                                                 \n",
      " flatten (Flatten)           (None, 14400)             0         \n",
      "                                                                 \n",
      " dense (Dense)               (None, 256)               3686656   \n",
      "                                                                 \n",
      " dense_1 (Dense)             (None, 1)                 257       \n",
      "                                                                 \n",
      "=================================================================\n",
      "Total params: 3,696,625\n",
      "Trainable params: 3,696,625\n",
      "Non-trainable params: 0\n",
      "_________________________________________________________________\n"
     ]
    }
   ],
   "source": [
    "model.summary()"
   ]
  },
  {
   "cell_type": "markdown",
   "metadata": {},
   "source": [
    "# 7. Train"
   ]
  },
  {
   "cell_type": "code",
   "execution_count": 20,
   "metadata": {},
   "outputs": [],
   "source": [
    "logdir='logs'"
   ]
  },
  {
   "cell_type": "code",
   "execution_count": 21,
   "metadata": {},
   "outputs": [],
   "source": [
    "tensorboard_callback = tf.keras.callbacks.TensorBoard(log_dir=logdir)"
   ]
  },
  {
   "cell_type": "code",
   "execution_count": 22,
   "metadata": {
    "scrolled": false,
    "tags": []
   },
   "outputs": [
    {
     "name": "stdout",
     "output_type": "stream",
     "text": [
      "Epoch 1/20\n",
      "14/14 [==============================] - 23s 1s/step - loss: 1.0080 - accuracy: 0.4576 - val_loss: 0.6979 - val_accuracy: 0.5229\n",
      "Epoch 2/20\n",
      "14/14 [==============================] - 17s 1s/step - loss: 0.6952 - accuracy: 0.4710 - val_loss: 0.6936 - val_accuracy: 0.4404\n",
      "Epoch 3/20\n",
      "14/14 [==============================] - 16s 1s/step - loss: 0.6879 - accuracy: 0.5156 - val_loss: 0.6791 - val_accuracy: 0.5596\n",
      "Epoch 4/20\n",
      "14/14 [==============================] - 17s 1s/step - loss: 0.6787 - accuracy: 0.5536 - val_loss: 0.6561 - val_accuracy: 0.7431\n",
      "Epoch 5/20\n",
      "14/14 [==============================] - 18s 1s/step - loss: 0.6696 - accuracy: 0.6808 - val_loss: 0.6290 - val_accuracy: 0.7248\n",
      "Epoch 6/20\n",
      "14/14 [==============================] - 18s 1s/step - loss: 0.6138 - accuracy: 0.7344 - val_loss: 0.5659 - val_accuracy: 0.7156\n",
      "Epoch 7/20\n",
      "14/14 [==============================] - 16s 1s/step - loss: 0.5365 - accuracy: 0.7478 - val_loss: 0.5051 - val_accuracy: 0.7156\n",
      "Epoch 8/20\n",
      "14/14 [==============================] - 17s 1s/step - loss: 0.4219 - accuracy: 0.8147 - val_loss: 0.3603 - val_accuracy: 0.8624\n",
      "Epoch 9/20\n",
      "14/14 [==============================] - 17s 1s/step - loss: 0.3500 - accuracy: 0.8482 - val_loss: 0.2933 - val_accuracy: 0.9083\n",
      "Epoch 10/20\n",
      "14/14 [==============================] - 17s 1s/step - loss: 0.2715 - accuracy: 0.9040 - val_loss: 0.1298 - val_accuracy: 0.9725\n",
      "Epoch 11/20\n",
      "14/14 [==============================] - 15s 1s/step - loss: 0.1697 - accuracy: 0.9442 - val_loss: 0.1344 - val_accuracy: 0.9450\n",
      "Epoch 12/20\n",
      "14/14 [==============================] - 17s 1s/step - loss: 0.1126 - accuracy: 0.9799 - val_loss: 0.0851 - val_accuracy: 0.9633\n",
      "Epoch 13/20\n",
      "14/14 [==============================] - 17s 1s/step - loss: 0.1021 - accuracy: 0.9799 - val_loss: 0.0653 - val_accuracy: 0.9908\n",
      "Epoch 14/20\n",
      "14/14 [==============================] - 18s 1s/step - loss: 0.0582 - accuracy: 0.9933 - val_loss: 0.0288 - val_accuracy: 1.0000\n",
      "Epoch 15/20\n",
      "14/14 [==============================] - 16s 1s/step - loss: 0.0676 - accuracy: 0.9665 - val_loss: 0.0646 - val_accuracy: 0.9725\n",
      "Epoch 16/20\n",
      "14/14 [==============================] - 16s 1s/step - loss: 0.0555 - accuracy: 0.9844 - val_loss: 0.0301 - val_accuracy: 1.0000\n",
      "Epoch 17/20\n",
      "14/14 [==============================] - 17s 1s/step - loss: 0.0231 - accuracy: 0.9978 - val_loss: 0.0085 - val_accuracy: 1.0000\n",
      "Epoch 18/20\n",
      "14/14 [==============================] - 17s 1s/step - loss: 0.0093 - accuracy: 1.0000 - val_loss: 0.0142 - val_accuracy: 1.0000\n",
      "Epoch 19/20\n",
      "14/14 [==============================] - 16s 1s/step - loss: 0.0068 - accuracy: 1.0000 - val_loss: 0.0040 - val_accuracy: 1.0000\n",
      "Epoch 20/20\n",
      "14/14 [==============================] - 16s 1s/step - loss: 0.0082 - accuracy: 0.9978 - val_loss: 0.0044 - val_accuracy: 1.0000\n"
     ]
    }
   ],
   "source": [
    "hist = model.fit(train, epochs=20, validation_data=val, callbacks=[tensorboard_callback])"
   ]
  },
  {
   "cell_type": "markdown",
   "metadata": {},
   "source": [
    "# 8. Plot Performance"
   ]
  },
  {
   "cell_type": "code",
   "execution_count": null,
   "metadata": {},
   "outputs": [],
   "source": [
    "fig = plt.figure()\n",
    "plt.plot(hist.history['loss'], color='teal', label='loss')\n",
    "plt.plot(hist.history['val_loss'], color='orange', label='val_loss')\n",
    "fig.suptitle('Loss', fontsize=20)\n",
    "plt.legend(loc=\"upper left\")\n",
    "plt.show()"
   ]
  },
  {
   "cell_type": "code",
   "execution_count": null,
   "metadata": {},
   "outputs": [],
   "source": [
    "fig = plt.figure()\n",
    "plt.plot(hist.history['accuracy'], color='teal', label='accuracy')\n",
    "plt.plot(hist.history['val_accuracy'], color='orange', label='val_accuracy')\n",
    "fig.suptitle('Accuracy', fontsize=20)\n",
    "plt.legend(loc=\"upper left\")\n",
    "plt.show()"
   ]
  },
  {
   "cell_type": "markdown",
   "metadata": {},
   "source": [
    "# 9. Evaluate"
   ]
  },
  {
   "cell_type": "code",
   "execution_count": null,
   "metadata": {},
   "outputs": [],
   "source": [
    "from tensorflow.keras.metrics import Precision, Recall, BinaryAccuracy"
   ]
  },
  {
   "cell_type": "code",
   "execution_count": null,
   "metadata": {},
   "outputs": [],
   "source": [
    "pre = Precision()\n",
    "re = Recall()\n",
    "acc = BinaryAccuracy()"
   ]
  },
  {
   "cell_type": "code",
   "execution_count": null,
   "metadata": {},
   "outputs": [],
   "source": [
    "for batch in test.as_numpy_iterator(): \n",
    "    X, y = batch\n",
    "    yhat = model.predict(X)\n",
    "    pre.update_state(y, yhat)\n",
    "    re.update_state(y, yhat)\n",
    "    acc.update_state(y, yhat)"
   ]
  },
  {
   "cell_type": "code",
   "execution_count": null,
   "metadata": {},
   "outputs": [],
   "source": [
    "print(pre.result(), re.result(), acc.result())"
   ]
  },
  {
   "cell_type": "markdown",
   "metadata": {},
   "source": [
    "# 10. Test"
   ]
  },
  {
   "cell_type": "code",
   "execution_count": null,
   "metadata": {},
   "outputs": [],
   "source": [
    "import cv2"
   ]
  },
  {
   "cell_type": "code",
   "execution_count": null,
   "metadata": {},
   "outputs": [],
   "source": [
    "img = cv2.imread('pic_11.jpg')\n",
    "plt.imshow(img)\n",
    "plt.show()"
   ]
  },
  {
   "cell_type": "code",
   "execution_count": null,
   "metadata": {},
   "outputs": [],
   "source": [
    "resize = tf.image.resize(img, (256,256))\n",
    "plt.imshow(resize.numpy().astype(int))\n",
    "plt.show()"
   ]
  },
  {
   "cell_type": "code",
   "execution_count": null,
   "metadata": {},
   "outputs": [],
   "source": [
    "yhat = model.predict(np.expand_dims(resize/255, 0))"
   ]
  },
  {
   "cell_type": "code",
   "execution_count": null,
   "metadata": {},
   "outputs": [],
   "source": [
    "yhat"
   ]
  },
  {
   "cell_type": "code",
   "execution_count": null,
   "metadata": {},
   "outputs": [],
   "source": [
    "if yhat > 0.5: \n",
    "    print(f'Predicted class is Dog')\n",
    "else:\n",
    "    print(f'Predicted class is Cat')"
   ]
  },
  {
   "cell_type": "markdown",
   "metadata": {},
   "source": [
    "# 11. Save the Model"
   ]
  },
  {
   "cell_type": "code",
   "execution_count": null,
   "metadata": {},
   "outputs": [],
   "source": [
    "from tensorflow.keras.models import load_model"
   ]
  },
  {
   "cell_type": "code",
   "execution_count": null,
   "metadata": {},
   "outputs": [],
   "source": [
    "model.save(os.path.join('models','imageclassifier.h5'))"
   ]
  },
  {
   "cell_type": "code",
   "execution_count": null,
   "metadata": {},
   "outputs": [],
   "source": [
    "new_model = load_model('imageclassifier.h5')"
   ]
  },
  {
   "cell_type": "code",
   "execution_count": null,
   "metadata": {},
   "outputs": [],
   "source": [
    "new_model.predict(np.expand_dims(resize/255, 0))"
   ]
  }
 ],
 "metadata": {
  "kernelspec": {
   "display_name": "Python 3 (ipykernel)",
   "language": "python",
   "name": "python3"
  },
  "language_info": {
   "codemirror_mode": {
    "name": "ipython",
    "version": 3
   },
   "file_extension": ".py",
   "mimetype": "text/x-python",
   "name": "python",
   "nbconvert_exporter": "python",
   "pygments_lexer": "ipython3",
   "version": "3.9.18"
  }
 },
 "nbformat": 4,
 "nbformat_minor": 4
}
