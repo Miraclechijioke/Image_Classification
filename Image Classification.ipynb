{
 "cells": [
  {
   "cell_type": "markdown",
   "id": "ec335a63",
   "metadata": {},
   "source": [
    "# 1. Install and Import Dependencies"
   ]
  },
  {
   "cell_type": "code",
   "execution_count": null,
   "id": "cd6d6694",
   "metadata": {},
   "outputs": [],
   "source": [
    "!pip install tensorflow tensorflow-gpu opencv-python matplotlib.pyplot"
   ]
  },
  {
   "cell_type": "code",
   "execution_count": 44,
   "id": "5b5064ca",
   "metadata": {},
   "outputs": [],
   "source": [
    "import tensorflow as tf\n",
    "import os"
   ]
  },
  {
   "cell_type": "markdown",
   "id": "1f2698d9",
   "metadata": {},
   "source": [
    "# 2. Remove unfit images"
   ]
  },
  {
   "cell_type": "code",
   "execution_count": 45,
   "id": "9967ec5c",
   "metadata": {},
   "outputs": [],
   "source": [
    "import cv2\n",
    "import imghdr"
   ]
  },
  {
   "cell_type": "code",
   "execution_count": 46,
   "id": "fdcea4cf",
   "metadata": {},
   "outputs": [],
   "source": [
    "data_dir = 'cats and dogs-train' # define data directory"
   ]
  },
  {
   "cell_type": "code",
   "execution_count": 4,
   "id": "d3570268",
   "metadata": {},
   "outputs": [],
   "source": [
    "image_exts = ['jpeg','jpg', 'bmp', 'png'] # required image extensions"
   ]
  },
  {
   "cell_type": "code",
   "execution_count": null,
   "id": "b045f2d0",
   "metadata": {},
   "outputs": [],
   "source": [
    "# Loop through each class in the dataset directory\n",
    "for image_class in os.listdir(data_dir):  \n",
    "    # Loop through each image in the current class directory\n",
    "    for image in os.listdir(os.path.join(data_dir, image_class)):  \n",
    "        # Construct the full file path for the image\n",
    "        image_path = os.path.join(data_dir, image_class, image)  \n",
    "        try:\n",
    "            # Attempt to read the image using OpenCV\n",
    "            img = cv2.imread(image_path)  \n",
    "            # Check the image's file extension/type using imghdr\n",
    "            tip = imghdr.what(image_path)  \n",
    "            \n",
    "            # If the image's extension/type is not in the list of valid extensions\n",
    "            if tip not in image_exts:  \n",
    "                # Print a message indicating the image is invalid\n",
    "                print('Image not in ext list {}'.format(image_path))  \n",
    "                # Remove the invalid image from the directory\n",
    "                os.remove(image_path)  \n",
    "        except Exception as e:\n",
    "            # If an exception occurs (e.g., corrupted image), print the issue\n",
    "            print('Issue with image {}'.format(image_path))  \n",
    "            # os.remove(image_path)\n"
   ]
  },
  {
   "cell_type": "markdown",
   "id": "b597052f",
   "metadata": {},
   "source": [
    "# 3. Load Data"
   ]
  },
  {
   "cell_type": "code",
   "execution_count": 47,
   "id": "673c4f1f",
   "metadata": {},
   "outputs": [],
   "source": [
    "import numpy as np\n",
    "from matplotlib import pyplot as plt"
   ]
  },
  {
   "cell_type": "code",
   "execution_count": 48,
   "id": "bee59420",
   "metadata": {},
   "outputs": [
    {
     "name": "stdout",
     "output_type": "stream",
     "text": [
      "Found 557 files belonging to 2 classes.\n"
     ]
    }
   ],
   "source": [
    "# Load images from the specified directory and its subdirectories\n",
    "# 'data_dir' is the path to the folder where images are organized in subdirectories by class\n",
    "data = tf.keras.utils.image_dataset_from_directory(data_dir, batch_size=32)\n",
    "\n",
    "# The function automatically:\n",
    "# - Loads all the images from the 'data_dir'\n",
    "# - Assigns labels based on the subdirectory names (each subdirectory represents a class)\n",
    "# - Returns a 'tf.data.Dataset' object that can be used to efficiently handle the image data\n"
   ]
  },
  {
   "cell_type": "code",
   "execution_count": 49,
   "id": "c4aed35c",
   "metadata": {},
   "outputs": [],
   "source": [
    "data_iterator = data.as_numpy_iterator() #convert data to numpy iterator"
   ]
  },
  {
   "cell_type": "code",
   "execution_count": 50,
   "id": "73dfc39a",
   "metadata": {},
   "outputs": [],
   "source": [
    "# Retrieve the next batch of data (images and labels) from the dataset using the NumPy iterator\n",
    "batch = data_iterator.next()\n",
    "\n",
    "# The batch contains a tuple with two elements:\n",
    "# - The first element is a batch of images (as NumPy arrays)\n",
    "# - The second element is the corresponding labels for those images\n"
   ]
  },
  {
   "cell_type": "code",
   "execution_count": 51,
   "id": "eedf10d4",
   "metadata": {
    "scrolled": true
   },
   "outputs": [
    {
     "data": {
      "text/plain": [
       "(32, 256, 256, 3)"
      ]
     },
     "execution_count": 51,
     "metadata": {},
     "output_type": "execute_result"
    }
   ],
   "source": [
    "batch[0].shape"
   ]
  },
  {
   "cell_type": "code",
   "execution_count": 52,
   "id": "c4014063",
   "metadata": {},
   "outputs": [
    {
     "data": {
      "text/plain": [
       "1406"
      ]
     },
     "execution_count": 52,
     "metadata": {},
     "output_type": "execute_result"
    }
   ],
   "source": [
    "import gc\n",
    "gc.collect()\n"
   ]
  },
  {
   "cell_type": "code",
   "execution_count": 53,
   "id": "0594a532",
   "metadata": {},
   "outputs": [
    {
     "data": {
      "text/plain": [
       "array([[[198.77539 , 195.77539 , 204.77539 ],\n",
       "        [201.14258 , 198.14258 , 207.14258 ],\n",
       "        [203.73299 , 200.73299 , 207.84236 ],\n",
       "        ...,\n",
       "        [135.22461 , 139.22461 , 150.22461 ],\n",
       "        [134.94034 , 139.08247 , 147.65607 ],\n",
       "        [134.77539 , 139.77539 , 145.77539 ]],\n",
       "\n",
       "       [[197.18404 , 194.18404 , 203.18404 ],\n",
       "        [199.69336 , 196.69336 , 205.69336 ],\n",
       "        [202.28932 , 199.28932 , 206.3987  ],\n",
       "        ...,\n",
       "        [136.      , 140.      , 149.65234 ],\n",
       "        [134.73438 , 139.36719 , 146.46875 ],\n",
       "        [134.      , 139.      , 145.      ]],\n",
       "\n",
       "       [[194.54297 , 191.54297 , 200.54297 ],\n",
       "        [197.1211  , 194.1211  , 203.1211  ],\n",
       "        [199.69922 , 196.69922 , 203.8086  ],\n",
       "        ...,\n",
       "        [136.2461  , 140.12305 , 149.12305 ],\n",
       "        [134.98047 , 139.41237 , 146.5918  ],\n",
       "        [134.2461  , 139.      , 145.12305 ]],\n",
       "\n",
       "       ...,\n",
       "\n",
       "       [[ 86.717926,  57.717926,  42.08789 ],\n",
       "        [ 86.87695 ,  57.876953,  41.876953],\n",
       "        [ 86.87695 ,  57.876953,  41.876953],\n",
       "        ...,\n",
       "        [ 32.446625,  44.67926 ,  44.67926 ],\n",
       "        [ 36.63553 ,  48.09308 ,  49.358704],\n",
       "        [ 46.600952,  57.678818,  59.652863]],\n",
       "\n",
       "       [[ 84.78906 ,  55.320755,  42.725677],\n",
       "        [ 85.36719 ,  56.367188,  42.367188],\n",
       "        [ 86.      ,  57.      ,  41.109375],\n",
       "        ...,\n",
       "        [ 26.109375,  40.109375,  40.109375],\n",
       "        [ 32.94406 ,  46.94406 ,  47.576874],\n",
       "        [ 28.285156,  42.285156,  43.285156]],\n",
       "\n",
       "       [[ 84.78906 ,  54.789062,  43.789062],\n",
       "        [ 85.36719 ,  56.367188,  42.367188],\n",
       "        [ 86.      ,  57.      ,  41.109375],\n",
       "        ...,\n",
       "        [ 26.15178 ,  40.15178 ,  40.15178 ],\n",
       "        [ 34.77823 ,  48.77823 ,  49.41104 ],\n",
       "        [ 31.347153,  45.347153,  46.347153]]], dtype=float32)"
      ]
     },
     "execution_count": 53,
     "metadata": {},
     "output_type": "execute_result"
    }
   ],
   "source": [
    "batch[0][8]"
   ]
  },
  {
   "cell_type": "markdown",
   "id": "6ebb08e9",
   "metadata": {},
   "source": [
    "# 4. Scale Data"
   ]
  },
  {
   "cell_type": "code",
   "execution_count": 54,
   "id": "5c9bde1f",
   "metadata": {},
   "outputs": [],
   "source": [
    "data = data.map(lambda x,y: (x/255, y)) # scale data to min 0, max 1"
   ]
  },
  {
   "cell_type": "code",
   "execution_count": 55,
   "id": "eb2fae70",
   "metadata": {
    "scrolled": true
   },
   "outputs": [
    {
     "data": {
      "text/plain": [
       "(array([[[[1.        , 1.        , 1.        ],\n",
       "          [1.        , 1.        , 1.        ],\n",
       "          [1.        , 1.        , 1.        ],\n",
       "          ...,\n",
       "          [1.        , 1.        , 1.        ],\n",
       "          [1.        , 1.        , 1.        ],\n",
       "          [1.        , 1.        , 1.        ]],\n",
       " \n",
       "         [[1.        , 1.        , 1.        ],\n",
       "          [1.        , 1.        , 1.        ],\n",
       "          [1.        , 1.        , 1.        ],\n",
       "          ...,\n",
       "          [1.        , 1.        , 1.        ],\n",
       "          [1.        , 1.        , 1.        ],\n",
       "          [1.        , 1.        , 1.        ]],\n",
       " \n",
       "         [[1.        , 1.        , 1.        ],\n",
       "          [1.        , 1.        , 1.        ],\n",
       "          [1.        , 1.        , 1.        ],\n",
       "          ...,\n",
       "          [1.        , 1.        , 1.        ],\n",
       "          [1.        , 1.        , 1.        ],\n",
       "          [1.        , 1.        , 1.        ]],\n",
       " \n",
       "         ...,\n",
       " \n",
       "         [[1.        , 1.        , 1.        ],\n",
       "          [1.        , 1.        , 1.        ],\n",
       "          [1.        , 1.        , 1.        ],\n",
       "          ...,\n",
       "          [1.        , 1.        , 1.        ],\n",
       "          [1.        , 1.        , 1.        ],\n",
       "          [1.        , 1.        , 1.        ]],\n",
       " \n",
       "         [[1.        , 1.        , 1.        ],\n",
       "          [1.        , 1.        , 1.        ],\n",
       "          [1.        , 1.        , 1.        ],\n",
       "          ...,\n",
       "          [1.        , 1.        , 1.        ],\n",
       "          [1.        , 1.        , 1.        ],\n",
       "          [1.        , 1.        , 1.        ]],\n",
       " \n",
       "         [[1.        , 1.        , 1.        ],\n",
       "          [1.        , 1.        , 1.        ],\n",
       "          [1.        , 1.        , 1.        ],\n",
       "          ...,\n",
       "          [1.        , 1.        , 1.        ],\n",
       "          [1.        , 1.        , 1.        ],\n",
       "          [1.        , 1.        , 1.        ]]],\n",
       " \n",
       " \n",
       "        [[[0.9765012 , 0.933364  , 0.3294424 ],\n",
       "          [0.98039216, 0.9372549 , 0.33370098],\n",
       "          [0.98039216, 0.9372549 , 0.34901962],\n",
       "          ...,\n",
       "          [0.89411765, 0.85867035, 0.321875  ],\n",
       "          [0.89411765, 0.85882354, 0.32156864],\n",
       "          [0.89411765, 0.85882354, 0.32156864]],\n",
       " \n",
       "         [[0.97897863, 0.9358414 , 0.3369137 ],\n",
       "          [0.98039216, 0.9372549 , 0.3385778 ],\n",
       "          [0.98039216, 0.9371574 , 0.34911713],\n",
       "          ...,\n",
       "          [0.8916207 , 0.8561734 , 0.31937808],\n",
       "          [0.8916207 , 0.8563266 , 0.31907168],\n",
       "          [0.8916207 , 0.8563266 , 0.31907168]],\n",
       " \n",
       "         [[0.98039216, 0.9372549 , 0.34427083],\n",
       "          [0.98039216, 0.93721867, 0.3444184 ],\n",
       "          [0.9804526 , 0.9356754 , 0.35084084],\n",
       "          ...,\n",
       "          [0.8901961 , 0.8501677 , 0.31176472],\n",
       "          [0.8901961 , 0.85026044, 0.31145832],\n",
       "          [0.8901961 , 0.85026044, 0.31145832]],\n",
       " \n",
       "         ...,\n",
       " \n",
       "         [[0.8995864 , 0.68080574, 0.5623315 ],\n",
       "          [0.8995864 , 0.68080574, 0.5623315 ],\n",
       "          [0.8995864 , 0.68080574, 0.5623315 ],\n",
       "          ...,\n",
       "          [0.84908   , 0.61678755, 0.5177356 ],\n",
       "          [0.8586009 , 0.6264012 , 0.53519404],\n",
       "          [0.8635352 , 0.63133544, 0.5325303 ]],\n",
       " \n",
       "         [[0.8980392 , 0.68235296, 0.56078434],\n",
       "          [0.8980392 , 0.68235296, 0.56078434],\n",
       "          [0.8980392 , 0.68235296, 0.56078434],\n",
       "          ...,\n",
       "          [0.8429422 , 0.60732794, 0.5050608 ],\n",
       "          [0.8584559 , 0.6231618 , 0.5260778 ],\n",
       "          [0.8666054 , 0.6313113 , 0.5293895 ]],\n",
       " \n",
       "         [[0.8980392 , 0.68235296, 0.56078434],\n",
       "          [0.8980392 , 0.68235296, 0.56078434],\n",
       "          [0.8980392 , 0.68235296, 0.56078434],\n",
       "          ...,\n",
       "          [0.84313726, 0.60723037, 0.5049632 ],\n",
       "          [0.8584559 , 0.6231618 , 0.52120095],\n",
       "          [0.8666054 , 0.6313113 , 0.5293505 ]]],\n",
       " \n",
       " \n",
       "        [[[0.6392157 , 0.6901961 , 0.72156864],\n",
       "          [0.6392157 , 0.6901961 , 0.72156864],\n",
       "          [0.6392157 , 0.6901961 , 0.72156864],\n",
       "          ...,\n",
       "          [0.72156864, 0.77254903, 0.8039216 ],\n",
       "          [0.72156864, 0.77254903, 0.8039216 ],\n",
       "          [0.72156864, 0.77254903, 0.8039216 ]],\n",
       " \n",
       "         [[0.6392157 , 0.6901961 , 0.72156864],\n",
       "          [0.6392157 , 0.6901961 , 0.72156864],\n",
       "          [0.6392157 , 0.6901961 , 0.72156864],\n",
       "          ...,\n",
       "          [0.72156864, 0.77254903, 0.8039216 ],\n",
       "          [0.72156864, 0.77254903, 0.8039216 ],\n",
       "          [0.72156864, 0.77254903, 0.8039216 ]],\n",
       " \n",
       "         [[0.6392157 , 0.6901961 , 0.72156864],\n",
       "          [0.6392157 , 0.6901961 , 0.72156864],\n",
       "          [0.6397059 , 0.6906863 , 0.72205883],\n",
       "          ...,\n",
       "          [0.72156864, 0.77254903, 0.8039216 ],\n",
       "          [0.72156864, 0.77254903, 0.8039216 ],\n",
       "          [0.72156864, 0.77254903, 0.8039216 ]],\n",
       " \n",
       "         ...,\n",
       " \n",
       "         [[0.3876398 , 0.31599456, 0.23721085],\n",
       "          [0.38324142, 0.3115962 , 0.2328125 ],\n",
       "          [0.45625192, 0.38518497, 0.30635723],\n",
       "          ...,\n",
       "          [0.33150277, 0.25882736, 0.17956495],\n",
       "          [0.50551087, 0.41896063, 0.3280101 ],\n",
       "          [0.6115426 , 0.48997396, 0.37869945]],\n",
       " \n",
       "         [[0.50675553, 0.42440256, 0.34204963],\n",
       "          [0.46622434, 0.3838714 , 0.30151847],\n",
       "          [0.4972235 , 0.41487056, 0.33251762],\n",
       "          ...,\n",
       "          [0.4999981 , 0.41445503, 0.32046187],\n",
       "          [0.5338676 , 0.45412838, 0.37090418],\n",
       "          [0.6699353 , 0.5508176 , 0.44591567]],\n",
       " \n",
       "         [[0.52347195, 0.44111902, 0.35876608],\n",
       "          [0.5658739 , 0.48352098, 0.40116805],\n",
       "          [0.55591875, 0.4735658 , 0.39121285],\n",
       "          ...,\n",
       "          [0.47953624, 0.40012446, 0.30429497],\n",
       "          [0.31896445, 0.25001532, 0.17158395],\n",
       "          [0.5407552 , 0.4280101 , 0.33095127]]],\n",
       " \n",
       " \n",
       "        ...,\n",
       " \n",
       " \n",
       "        [[[1.        , 1.        , 1.        ],\n",
       "          [1.        , 1.        , 1.        ],\n",
       "          [1.        , 1.        , 1.        ],\n",
       "          ...,\n",
       "          [1.        , 1.        , 1.        ],\n",
       "          [1.        , 1.        , 1.        ],\n",
       "          [1.        , 1.        , 1.        ]],\n",
       " \n",
       "         [[1.        , 1.        , 1.        ],\n",
       "          [1.        , 1.        , 1.        ],\n",
       "          [1.        , 1.        , 1.        ],\n",
       "          ...,\n",
       "          [1.        , 1.        , 1.        ],\n",
       "          [1.        , 1.        , 1.        ],\n",
       "          [1.        , 1.        , 1.        ]],\n",
       " \n",
       "         [[1.        , 1.        , 1.        ],\n",
       "          [1.        , 1.        , 1.        ],\n",
       "          [1.        , 1.        , 1.        ],\n",
       "          ...,\n",
       "          [1.        , 1.        , 1.        ],\n",
       "          [1.        , 1.        , 1.        ],\n",
       "          [1.        , 1.        , 1.        ]],\n",
       " \n",
       "         ...,\n",
       " \n",
       "         [[1.        , 1.        , 1.        ],\n",
       "          [1.        , 1.        , 1.        ],\n",
       "          [1.        , 1.        , 1.        ],\n",
       "          ...,\n",
       "          [1.        , 1.        , 1.        ],\n",
       "          [1.        , 1.        , 1.        ],\n",
       "          [1.        , 1.        , 1.        ]],\n",
       " \n",
       "         [[1.        , 1.        , 1.        ],\n",
       "          [1.        , 1.        , 1.        ],\n",
       "          [1.        , 1.        , 1.        ],\n",
       "          ...,\n",
       "          [1.        , 1.        , 1.        ],\n",
       "          [1.        , 1.        , 1.        ],\n",
       "          [1.        , 1.        , 1.        ]],\n",
       " \n",
       "         [[1.        , 1.        , 1.        ],\n",
       "          [1.        , 1.        , 1.        ],\n",
       "          [1.        , 1.        , 1.        ],\n",
       "          ...,\n",
       "          [1.        , 1.        , 1.        ],\n",
       "          [1.        , 1.        , 1.        ],\n",
       "          [1.        , 1.        , 1.        ]]],\n",
       " \n",
       " \n",
       "        [[[0.69803923, 0.7764706 , 0.8039216 ],\n",
       "          [0.69803923, 0.7764706 , 0.8039216 ],\n",
       "          [0.6990196 , 0.7759804 , 0.8039216 ],\n",
       "          ...,\n",
       "          [0.7887255 , 0.86715686, 0.8955882 ],\n",
       "          [0.7829446 , 0.861376  , 0.88882697],\n",
       "          [0.7882353 , 0.8666667 , 0.89411765]],\n",
       " \n",
       "         [[0.69411767, 0.77254903, 0.8       ],\n",
       "          [0.69803923, 0.7764706 , 0.8039216 ],\n",
       "          [0.6990196 , 0.7759804 , 0.8039216 ],\n",
       "          ...,\n",
       "          [0.79512674, 0.87355816, 0.9019895 ],\n",
       "          [0.78599876, 0.8644301 , 0.8918811 ],\n",
       "          [0.7921569 , 0.87058824, 0.8980392 ]],\n",
       " \n",
       "         [[0.69411767, 0.77254903, 0.8       ],\n",
       "          [0.6897059 , 0.7681373 , 0.79558825],\n",
       "          [0.6990196 , 0.7759804 , 0.8039216 ],\n",
       "          ...,\n",
       "          [0.7852941 , 0.8637255 , 0.89215684],\n",
       "          [0.78431374, 0.8627451 , 0.8901961 ],\n",
       "          [0.79165137, 0.87008274, 0.8975337 ]],\n",
       " \n",
       "         ...,\n",
       " \n",
       "         [[0.7375708 , 0.80423754, 0.84244215],\n",
       "          [0.74460787, 0.8112745 , 0.84947914],\n",
       "          [0.75238776, 0.8190545 , 0.8564051 ],\n",
       "          ...,\n",
       "          [0.8       , 0.85882354, 0.8862745 ],\n",
       "          [0.8       , 0.85882354, 0.8862745 ],\n",
       "          [0.8005055 , 0.85932904, 0.88678   ]],\n",
       " \n",
       "         [[0.74509805, 0.81135684, 0.84825367],\n",
       "          [0.7447438 , 0.8114105 , 0.84278303],\n",
       "          [0.7497032 , 0.8163699 , 0.84679073],\n",
       "          ...,\n",
       "          [0.7905465 , 0.8490981 , 0.876685  ],\n",
       "          [0.7904105 , 0.84923404, 0.876685  ],\n",
       "          [0.8039216 , 0.8627451 , 0.8901961 ]],\n",
       " \n",
       "         [[0.74509805, 0.80784315, 0.85882354],\n",
       "          [0.74509805, 0.8117647 , 0.84313726],\n",
       "          [0.74509805, 0.8117647 , 0.8397059 ],\n",
       "          ...,\n",
       "          [0.8021599 , 0.86000305, 0.8879442 ],\n",
       "          [0.8016697 , 0.86049324, 0.8879442 ],\n",
       "          [0.80951285, 0.8683364 , 0.89578736]]],\n",
       " \n",
       " \n",
       "        [[[1.        , 1.        , 1.        ],\n",
       "          [1.        , 1.        , 1.        ],\n",
       "          [1.        , 1.        , 1.        ],\n",
       "          ...,\n",
       "          [1.        , 1.        , 1.        ],\n",
       "          [1.        , 1.        , 1.        ],\n",
       "          [1.        , 1.        , 1.        ]],\n",
       " \n",
       "         [[1.        , 1.        , 1.        ],\n",
       "          [1.        , 1.        , 1.        ],\n",
       "          [1.        , 1.        , 1.        ],\n",
       "          ...,\n",
       "          [1.        , 1.        , 1.        ],\n",
       "          [1.        , 1.        , 1.        ],\n",
       "          [1.        , 1.        , 1.        ]],\n",
       " \n",
       "         [[1.        , 1.        , 1.        ],\n",
       "          [1.        , 1.        , 1.        ],\n",
       "          [1.        , 1.        , 1.        ],\n",
       "          ...,\n",
       "          [1.        , 1.        , 1.        ],\n",
       "          [1.        , 1.        , 1.        ],\n",
       "          [1.        , 1.        , 1.        ]],\n",
       " \n",
       "         ...,\n",
       " \n",
       "         [[1.        , 1.        , 1.        ],\n",
       "          [1.        , 1.        , 1.        ],\n",
       "          [1.        , 1.        , 1.        ],\n",
       "          ...,\n",
       "          [1.        , 1.        , 1.        ],\n",
       "          [1.        , 1.        , 1.        ],\n",
       "          [1.        , 1.        , 1.        ]],\n",
       " \n",
       "         [[1.        , 1.        , 1.        ],\n",
       "          [1.        , 1.        , 1.        ],\n",
       "          [1.        , 1.        , 1.        ],\n",
       "          ...,\n",
       "          [1.        , 1.        , 1.        ],\n",
       "          [1.        , 1.        , 1.        ],\n",
       "          [1.        , 1.        , 1.        ]],\n",
       " \n",
       "         [[1.        , 1.        , 1.        ],\n",
       "          [1.        , 1.        , 1.        ],\n",
       "          [1.        , 1.        , 1.        ],\n",
       "          ...,\n",
       "          [1.        , 1.        , 1.        ],\n",
       "          [1.        , 1.        , 1.        ],\n",
       "          [1.        , 1.        , 1.        ]]]], dtype=float32),\n",
       " array([0, 1, 1, 0, 1, 1, 1, 0, 1, 1, 1, 1, 1, 1, 1, 1, 1, 0, 1, 1, 1, 0,\n",
       "        1, 0, 0, 0, 0, 0, 0, 1, 0, 0]))"
      ]
     },
     "execution_count": 55,
     "metadata": {},
     "output_type": "execute_result"
    }
   ],
   "source": [
    "batch = data.as_numpy_iterator().next()\n",
    "batch"
   ]
  },
  {
   "cell_type": "markdown",
   "id": "4a1a51fb",
   "metadata": {},
   "source": [
    "# 5. Split Data"
   ]
  },
  {
   "cell_type": "code",
   "execution_count": 56,
   "id": "b694ec35",
   "metadata": {},
   "outputs": [
    {
     "data": {
      "text/plain": [
       "18"
      ]
     },
     "execution_count": 56,
     "metadata": {},
     "output_type": "execute_result"
    }
   ],
   "source": [
    "len(data)"
   ]
  },
  {
   "cell_type": "code",
   "execution_count": 57,
   "id": "b1c1b474",
   "metadata": {},
   "outputs": [],
   "source": [
    "train_size = int(len(data)*.8)\n",
    "val_size = int(len(data)*.2)+1"
   ]
  },
  {
   "cell_type": "code",
   "execution_count": 58,
   "id": "fac63d85",
   "metadata": {},
   "outputs": [],
   "source": [
    "train = data.take(train_size)\n",
    "val = data.skip(train_size).take(val_size)"
   ]
  },
  {
   "cell_type": "markdown",
   "id": "b7ca8dcc",
   "metadata": {},
   "source": [
    "# 6. Build Deep Learning Model"
   ]
  },
  {
   "cell_type": "code",
   "execution_count": 59,
   "id": "2070fa26",
   "metadata": {},
   "outputs": [],
   "source": [
    "from tensorflow.keras.models import Sequential\n",
    "from tensorflow.keras.layers import Conv2D, MaxPooling2D, Dense, Flatten"
   ]
  },
  {
   "cell_type": "code",
   "execution_count": 60,
   "id": "088439dd",
   "metadata": {},
   "outputs": [],
   "source": [
    "model = Sequential()"
   ]
  },
  {
   "cell_type": "code",
   "execution_count": 61,
   "id": "b4cb9118",
   "metadata": {},
   "outputs": [],
   "source": [
    "# Add a 2D Convolutional layer with 16 filters, a 3x3 kernel, stride of 1, and ReLU activation\n",
    "# - input_shape: (256, 256, 3) specifies the shape of the input image (256x256 pixels with 3 channels for RGB)\n",
    "model.add(Conv2D(16, (3,3), 1, activation='relu', input_shape=(256,256,3)))\n",
    "\n",
    "# Add a MaxPooling layer to reduce the spatial dimensions (downsampling)\n",
    "# - Pooling reduces the size of the feature maps, helping to reduce computation and prevent overfitting\n",
    "model.add(MaxPooling2D())\n",
    "\n",
    "# Add another Conv2D layer with 32 filters, 3x3 kernel, stride of 1, and ReLU activation\n",
    "# - This layer learns more complex features (such as edges and textures) from the downsampled feature maps\n",
    "model.add(Conv2D(32, (3,3), 1, activation='relu'))\n",
    "\n",
    "# Add another MaxPooling layer to further reduce the size of the feature maps\n",
    "model.add(MaxPooling2D())\n",
    "\n",
    "# Add another Conv2D layer with 16 filters, 3x3 kernel, stride of 1, and ReLU activation\n",
    "# - This layer extracts more specific patterns from the features learned in the previous layers\n",
    "model.add(Conv2D(16, (3,3), 1, activation='relu'))\n",
    "\n",
    "# Add another MaxPooling layer to further reduce the spatial dimensions\n",
    "model.add(MaxPooling2D())\n",
    "\n",
    "# Flatten the 2D feature maps into a 1D vector to prepare for fully connected layers\n",
    "# - This is required before passing the data to the Dense layers\n",
    "model.add(Flatten())\n",
    "\n",
    "# Add a Dense (fully connected) layer with 256 units and ReLU activation\n",
    "# - This layer learns to combine the features extracted by the Conv2D layers\n",
    "model.add(Dense(256, activation='relu'))\n",
    "\n",
    "# Add the final output Dense layer with 1 unit and sigmoid activation\n",
    "# - Sigmoid activation is used for binary classification (output is between 0 and 1)\n",
    "model.add(Dense(1, activation='sigmoid'))\n"
   ]
  },
  {
   "cell_type": "code",
   "execution_count": 62,
   "id": "93c98687",
   "metadata": {},
   "outputs": [],
   "source": [
    "model.compile('adam', loss=tf.losses.BinaryCrossentropy(), metrics=['accuracy']) # compile model"
   ]
  },
  {
   "cell_type": "code",
   "execution_count": 63,
   "id": "983c2035",
   "metadata": {},
   "outputs": [
    {
     "name": "stdout",
     "output_type": "stream",
     "text": [
      "Model: \"sequential_1\"\n",
      "_________________________________________________________________\n",
      " Layer (type)                Output Shape              Param #   \n",
      "=================================================================\n",
      " conv2d_3 (Conv2D)           (None, 254, 254, 16)      448       \n",
      "                                                                 \n",
      " max_pooling2d_3 (MaxPooling  (None, 127, 127, 16)     0         \n",
      " 2D)                                                             \n",
      "                                                                 \n",
      " conv2d_4 (Conv2D)           (None, 125, 125, 32)      4640      \n",
      "                                                                 \n",
      " max_pooling2d_4 (MaxPooling  (None, 62, 62, 32)       0         \n",
      " 2D)                                                             \n",
      "                                                                 \n",
      " conv2d_5 (Conv2D)           (None, 60, 60, 16)        4624      \n",
      "                                                                 \n",
      " max_pooling2d_5 (MaxPooling  (None, 30, 30, 16)       0         \n",
      " 2D)                                                             \n",
      "                                                                 \n",
      " flatten_1 (Flatten)         (None, 14400)             0         \n",
      "                                                                 \n",
      " dense_2 (Dense)             (None, 256)               3686656   \n",
      "                                                                 \n",
      " dense_3 (Dense)             (None, 1)                 257       \n",
      "                                                                 \n",
      "=================================================================\n",
      "Total params: 3,696,625\n",
      "Trainable params: 3,696,625\n",
      "Non-trainable params: 0\n",
      "_________________________________________________________________\n"
     ]
    }
   ],
   "source": [
    "model.summary()"
   ]
  },
  {
   "cell_type": "markdown",
   "id": "34afaf3d",
   "metadata": {},
   "source": [
    "# 7. Train"
   ]
  },
  {
   "cell_type": "code",
   "execution_count": 64,
   "id": "0f2907fd",
   "metadata": {},
   "outputs": [],
   "source": [
    "#logdir='logs'"
   ]
  },
  {
   "cell_type": "code",
   "execution_count": 65,
   "id": "99a0de67",
   "metadata": {},
   "outputs": [],
   "source": [
    "#tensorboard_callback = tf.keras.callbacks.TensorBoard(log_dir=logdir) # create a tensorboard callback to log metrics"
   ]
  },
  {
   "cell_type": "code",
   "execution_count": 66,
   "id": "dd78a0fe",
   "metadata": {},
   "outputs": [
    {
     "name": "stdout",
     "output_type": "stream",
     "text": [
      "Epoch 1/20\n",
      "14/14 [==============================] - 42s 3s/step - loss: 0.7030 - accuracy: 0.4978 - val_loss: 0.6681 - val_accuracy: 0.6881\n",
      "Epoch 2/20\n",
      "14/14 [==============================] - 16s 1s/step - loss: 0.6443 - accuracy: 0.6362 - val_loss: 0.6362 - val_accuracy: 0.5872\n",
      "Epoch 3/20\n",
      "14/14 [==============================] - 17s 1s/step - loss: 0.5581 - accuracy: 0.7254 - val_loss: 0.4799 - val_accuracy: 0.7982\n",
      "Epoch 4/20\n",
      "14/14 [==============================] - 20s 1s/step - loss: 0.4549 - accuracy: 0.7857 - val_loss: 0.3568 - val_accuracy: 0.8899\n",
      "Epoch 5/20\n",
      "14/14 [==============================] - 21s 1s/step - loss: 0.3674 - accuracy: 0.8214 - val_loss: 0.2706 - val_accuracy: 0.8991\n",
      "Epoch 6/20\n",
      "14/14 [==============================] - 21s 1s/step - loss: 0.2736 - accuracy: 0.8839 - val_loss: 0.1910 - val_accuracy: 0.9266\n",
      "Epoch 7/20\n",
      "14/14 [==============================] - 20s 1s/step - loss: 0.1983 - accuracy: 0.9330 - val_loss: 0.1850 - val_accuracy: 0.9266\n",
      "Epoch 8/20\n",
      "14/14 [==============================] - 18s 1s/step - loss: 0.1475 - accuracy: 0.9487 - val_loss: 0.1033 - val_accuracy: 0.9725\n",
      "Epoch 9/20\n",
      "14/14 [==============================] - 15s 1s/step - loss: 0.1741 - accuracy: 0.9241 - val_loss: 0.1076 - val_accuracy: 0.9725\n",
      "Epoch 10/20\n",
      "14/14 [==============================] - 18s 1s/step - loss: 0.1272 - accuracy: 0.9420 - val_loss: 0.0767 - val_accuracy: 0.9908\n",
      "Epoch 11/20\n",
      "14/14 [==============================] - 18s 1s/step - loss: 0.0796 - accuracy: 0.9665 - val_loss: 0.0540 - val_accuracy: 1.0000\n",
      "Epoch 12/20\n",
      "14/14 [==============================] - 14s 912ms/step - loss: 0.0523 - accuracy: 0.9888 - val_loss: 0.0350 - val_accuracy: 1.0000\n",
      "Epoch 13/20\n",
      "14/14 [==============================] - 13s 888ms/step - loss: 0.0311 - accuracy: 0.9978 - val_loss: 0.0524 - val_accuracy: 0.9725\n",
      "Epoch 14/20\n",
      "14/14 [==============================] - 16s 1s/step - loss: 0.0397 - accuracy: 0.9866 - val_loss: 0.0245 - val_accuracy: 0.9908\n",
      "Epoch 15/20\n",
      "14/14 [==============================] - 13s 860ms/step - loss: 0.0176 - accuracy: 0.9978 - val_loss: 0.0145 - val_accuracy: 1.0000\n",
      "Epoch 16/20\n",
      "14/14 [==============================] - 14s 938ms/step - loss: 0.0220 - accuracy: 0.9955 - val_loss: 0.0203 - val_accuracy: 1.0000\n",
      "Epoch 17/20\n",
      "14/14 [==============================] - 13s 872ms/step - loss: 0.0162 - accuracy: 0.9978 - val_loss: 0.0173 - val_accuracy: 0.9908\n",
      "Epoch 18/20\n",
      "14/14 [==============================] - 13s 890ms/step - loss: 0.0161 - accuracy: 0.9955 - val_loss: 0.0050 - val_accuracy: 1.0000\n",
      "Epoch 19/20\n",
      "14/14 [==============================] - 13s 861ms/step - loss: 0.0213 - accuracy: 0.9955 - val_loss: 0.0108 - val_accuracy: 1.0000\n",
      "Epoch 20/20\n",
      "14/14 [==============================] - 13s 846ms/step - loss: 0.0126 - accuracy: 0.9978 - val_loss: 0.0016 - val_accuracy: 1.0000\n"
     ]
    }
   ],
   "source": [
    "hist = model.fit(train, epochs=20, validation_data=val) # fit model to train data"
   ]
  },
  {
   "cell_type": "markdown",
   "id": "b30b87c1",
   "metadata": {},
   "source": [
    "# 8. Plot Performance"
   ]
  },
  {
   "cell_type": "code",
   "execution_count": null,
   "id": "0f0bc75f",
   "metadata": {},
   "outputs": [],
   "source": [
    "fig = plt.figure()\n",
    "plt.plot(hist.history['loss'], color='teal', label='loss')\n",
    "plt.plot(hist.history['val_loss'], color='orange', label='val_loss')\n",
    "fig.suptitle('Loss', fontsize=20)\n",
    "plt.legend(loc=\"upper left\")\n",
    "plt.show()"
   ]
  },
  {
   "cell_type": "code",
   "execution_count": null,
   "id": "536f3f33",
   "metadata": {},
   "outputs": [],
   "source": [
    "fig = plt.figure()\n",
    "plt.plot(hist.history['accuracy'], color='teal', label='accuracy')\n",
    "plt.plot(hist.history['val_accuracy'], color='orange', label='val_accuracy')\n",
    "fig.suptitle('Accuracy', fontsize=20)\n",
    "plt.legend(loc=\"upper left\")\n",
    "plt.show()"
   ]
  },
  {
   "cell_type": "markdown",
   "id": "ff2e38fa",
   "metadata": {},
   "source": [
    "# Test data"
   ]
  },
  {
   "cell_type": "code",
   "execution_count": 67,
   "id": "ffe80eaf",
   "metadata": {},
   "outputs": [],
   "source": [
    "data_dir_test = 'cats and dogs-test' # define data directory"
   ]
  },
  {
   "cell_type": "code",
   "execution_count": 68,
   "id": "2b346f56",
   "metadata": {},
   "outputs": [
    {
     "name": "stdout",
     "output_type": "stream",
     "text": [
      "Found 140 files belonging to 2 classes.\n"
     ]
    }
   ],
   "source": [
    "# Load images from the specified directory and its subdirectories\n",
    "# 'data_dir' is the path to the folder where images are organized in subdirectories by class\n",
    "data_test = tf.keras.utils.image_dataset_from_directory(data_dir_test, batch_size=32) "
   ]
  },
  {
   "cell_type": "markdown",
   "id": "a71ff168",
   "metadata": {},
   "source": [
    "# 9. Evaluate"
   ]
  },
  {
   "cell_type": "code",
   "execution_count": 69,
   "id": "f248ccd1",
   "metadata": {},
   "outputs": [],
   "source": [
    "from tensorflow.keras.metrics import Precision, Recall, BinaryAccuracy"
   ]
  },
  {
   "cell_type": "code",
   "execution_count": 70,
   "id": "71ae2af3",
   "metadata": {},
   "outputs": [],
   "source": [
    "precision = Precision()\n",
    "recall = Recall()\n",
    "accuracy = BinaryAccuracy()"
   ]
  },
  {
   "cell_type": "code",
   "execution_count": 71,
   "id": "a6638dd8",
   "metadata": {},
   "outputs": [
    {
     "name": "stdout",
     "output_type": "stream",
     "text": [
      "1/1 [==============================] - 1s 817ms/step\n",
      "1/1 [==============================] - 0s 261ms/step\n",
      "1/1 [==============================] - 0s 242ms/step\n",
      "1/1 [==============================] - 0s 292ms/step\n",
      "WARNING:tensorflow:5 out of the last 13 calls to <function Model.make_predict_function.<locals>.predict_function at 0x000001BF2B3A6A60> triggered tf.function retracing. Tracing is expensive and the excessive number of tracings could be due to (1) creating @tf.function repeatedly in a loop, (2) passing tensors with different shapes, (3) passing Python objects instead of tensors. For (1), please define your @tf.function outside of the loop. For (2), @tf.function has reduce_retracing=True option that can avoid unnecessary retracing. For (3), please refer to https://www.tensorflow.org/guide/function#controlling_retracing and https://www.tensorflow.org/api_docs/python/tf/function for  more details.\n",
      "1/1 [==============================] - 0s 205ms/step\n"
     ]
    }
   ],
   "source": [
    "for batch in data_test.as_numpy_iterator(): \n",
    "    X, y = batch\n",
    "    yhat = model.predict(X)\n",
    "    precision.update_state(y, yhat)\n",
    "    recall.update_state(y, yhat)\n",
    "    accuracy.update_state(y, yhat)"
   ]
  },
  {
   "cell_type": "code",
   "execution_count": 72,
   "id": "50693f5f",
   "metadata": {},
   "outputs": [
    {
     "name": "stdout",
     "output_type": "stream",
     "text": [
      "Precision: 0.6515151262283325\n",
      "Recall: 0.6142857074737549\n",
      "Accuracy: 0.6428571343421936\n"
     ]
    }
   ],
   "source": [
    "final_precision = precision.result().numpy()\n",
    "final_recall = recall.result().numpy()\n",
    "final_accuracy = accuracy.result().numpy()\n",
    "\n",
    "# Print the accumulated metrics for the entire dataset\n",
    "print(f'Precision: {final_precision}')\n",
    "print(f'Recall: {final_recall}')\n",
    "print(f'Accuracy: {final_accuracy}')"
   ]
  },
  {
   "cell_type": "markdown",
   "id": "7ed9b94f",
   "metadata": {},
   "source": [
    "# 10. Make test prediction"
   ]
  },
  {
   "cell_type": "code",
   "execution_count": 73,
   "id": "2fd0792c",
   "metadata": {},
   "outputs": [],
   "source": [
    "import cv2"
   ]
  },
  {
   "cell_type": "code",
   "execution_count": 76,
   "id": "28a476e2",
   "metadata": {},
   "outputs": [],
   "source": [
    "img = cv2.imread('cute_cat.jpg')\n",
    "#plt.imshow(img)\n",
    "#plt.show()"
   ]
  },
  {
   "cell_type": "code",
   "execution_count": 77,
   "id": "c394539c",
   "metadata": {},
   "outputs": [],
   "source": [
    "resize = tf.image.resize(img, (256,256))\n",
    "#plt.imshow(resize.numpy().astype(int))\n",
    "#plt.show()"
   ]
  },
  {
   "cell_type": "code",
   "execution_count": 78,
   "id": "ade34a2d",
   "metadata": {},
   "outputs": [
    {
     "name": "stdout",
     "output_type": "stream",
     "text": [
      "1/1 [==============================] - 0s 48ms/step\n"
     ]
    },
    {
     "data": {
      "text/plain": [
       "array([[9.113019e-10]], dtype=float32)"
      ]
     },
     "execution_count": 78,
     "metadata": {},
     "output_type": "execute_result"
    }
   ],
   "source": [
    "yhat = model.predict(np.expand_dims(resize/255, 0))\n",
    "yhat"
   ]
  },
  {
   "cell_type": "code",
   "execution_count": 79,
   "id": "0e0d695c",
   "metadata": {},
   "outputs": [
    {
     "name": "stdout",
     "output_type": "stream",
     "text": [
      "Predicted class is Cat\n"
     ]
    }
   ],
   "source": [
    "if yhat > 0.5: \n",
    "    print(f'Predicted class is Dog')\n",
    "else:\n",
    "    print(f'Predicted class is Cat')"
   ]
  },
  {
   "cell_type": "markdown",
   "id": "b7418d3d",
   "metadata": {},
   "source": [
    "# 11. Save the Model"
   ]
  },
  {
   "cell_type": "code",
   "execution_count": 36,
   "id": "c37a01d2",
   "metadata": {},
   "outputs": [],
   "source": [
    "from tensorflow.keras.models import load_model"
   ]
  },
  {
   "cell_type": "code",
   "execution_count": 37,
   "id": "9928530b",
   "metadata": {},
   "outputs": [],
   "source": [
    "model.save(os.path.join('models','classifier.h5'))"
   ]
  },
  {
   "cell_type": "code",
   "execution_count": 39,
   "id": "fd50222f",
   "metadata": {},
   "outputs": [],
   "source": [
    "new_model = load_model('models/classifier.h5')"
   ]
  },
  {
   "cell_type": "code",
   "execution_count": 42,
   "id": "8b935d1d",
   "metadata": {},
   "outputs": [
    {
     "name": "stdout",
     "output_type": "stream",
     "text": [
      "1/1 [==============================] - 0s 36ms/step\n"
     ]
    }
   ],
   "source": [
    "yhat_new = new_model.predict(np.expand_dims(resize/255, 0))"
   ]
  },
  {
   "cell_type": "code",
   "execution_count": 43,
   "id": "854e36f4",
   "metadata": {},
   "outputs": [
    {
     "name": "stdout",
     "output_type": "stream",
     "text": [
      "Predicted class is Dog\n"
     ]
    }
   ],
   "source": [
    "if yhat_new > 0.5: \n",
    "    print(f'Predicted class is Dog')\n",
    "else:\n",
    "    print(f'Predicted class is Cat')"
   ]
  },
  {
   "cell_type": "code",
   "execution_count": null,
   "id": "5cce8d74",
   "metadata": {},
   "outputs": [],
   "source": []
  }
 ],
 "metadata": {
  "kernelspec": {
   "display_name": "Python [conda env:tf_env] *",
   "language": "python",
   "name": "conda-env-tf_env-py"
  },
  "language_info": {
   "codemirror_mode": {
    "name": "ipython",
    "version": 3
   },
   "file_extension": ".py",
   "mimetype": "text/x-python",
   "name": "python",
   "nbconvert_exporter": "python",
   "pygments_lexer": "ipython3",
   "version": "3.9.18"
  }
 },
 "nbformat": 4,
 "nbformat_minor": 5
}
