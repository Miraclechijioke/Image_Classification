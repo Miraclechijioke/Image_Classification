{
 "cells": [
  {
   "cell_type": "markdown",
   "metadata": {},
   "source": [
    "# 1. Install Dependencies and Setup"
   ]
  },
  {
   "cell_type": "code",
   "execution_count": null,
   "metadata": {
    "tags": []
   },
   "outputs": [],
   "source": [
    "!pip install tensorflow tensorflow-gpu opencv-python matplotlib.pyplot"
   ]
  },
  {
   "cell_type": "code",
   "execution_count": null,
   "metadata": {},
   "outputs": [],
   "source": [
    "!pip install tensorflow-gpu"
   ]
  },
  {
   "cell_type": "code",
   "execution_count": null,
   "metadata": {
    "tags": []
   },
   "outputs": [],
   "source": [
    "!pip list"
   ]
  },
  {
   "cell_type": "code",
   "execution_count": 1,
   "metadata": {},
   "outputs": [],
   "source": [
    "import tensorflow as tf\n",
    "import os"
   ]
  },
  {
   "cell_type": "code",
   "execution_count": 2,
   "metadata": {},
   "outputs": [],
   "source": [
    "# Avoid OOM errors by setting GPU Memory Consumption Growth\n",
    "gpus = tf.config.experimental.list_physical_devices('GPU')\n",
    "for gpu in gpus: \n",
    "    tf.config.experimental.set_memory_growth(gpu, True)"
   ]
  },
  {
   "cell_type": "code",
   "execution_count": 3,
   "metadata": {
    "tags": []
   },
   "outputs": [
    {
     "data": {
      "text/plain": [
       "[]"
      ]
     },
     "execution_count": 3,
     "metadata": {},
     "output_type": "execute_result"
    }
   ],
   "source": [
    "tf.config.list_physical_devices('GPU')"
   ]
  },
  {
   "cell_type": "markdown",
   "metadata": {},
   "source": [
    "# 2. Remove dodgy images"
   ]
  },
  {
   "cell_type": "code",
   "execution_count": 4,
   "metadata": {},
   "outputs": [],
   "source": [
    "import cv2\n",
    "import imghdr"
   ]
  },
  {
   "cell_type": "code",
   "execution_count": 5,
   "metadata": {},
   "outputs": [],
   "source": [
    "data_dir = 'cats and dogs-train'"
   ]
  },
  {
   "cell_type": "code",
   "execution_count": null,
   "metadata": {},
   "outputs": [],
   "source": [
    "image_exts = ['jpeg','jpg', 'bmp', 'png']"
   ]
  },
  {
   "cell_type": "code",
   "execution_count": null,
   "metadata": {
    "tags": []
   },
   "outputs": [],
   "source": [
    "# Loop through each class in the dataset directory\n",
    "for image_class in os.listdir(data_dir):  \n",
    "    # Loop through each image in the current class directory\n",
    "    for image in os.listdir(os.path.join(data_dir, image_class)):  \n",
    "        # Construct the full file path for the image\n",
    "        image_path = os.path.join(data_dir, image_class, image)  \n",
    "        try:\n",
    "            # Attempt to read the image using OpenCV\n",
    "            img = cv2.imread(image_path)  \n",
    "            # Check the image's file extension/type using imghdr\n",
    "            tip = imghdr.what(image_path)  \n",
    "            \n",
    "            # If the image's extension/type is not in the list of valid extensions\n",
    "            if tip not in image_exts:  \n",
    "                # Print a message indicating the image is invalid\n",
    "                print('Image not in ext list {}'.format(image_path))  \n",
    "                # Remove the invalid image from the directory\n",
    "                os.remove(image_path)  \n",
    "        except Exception as e:\n",
    "            # If an exception occurs (e.g., corrupted image), print the issue\n",
    "            print('Issue with image {}'.format(image_path))  \n",
    "            # os.remove(image_path)\n"
   ]
  },
  {
   "cell_type": "markdown",
   "metadata": {},
   "source": [
    "# 3. Load Data"
   ]
  },
  {
   "cell_type": "code",
   "execution_count": 6,
   "metadata": {},
   "outputs": [],
   "source": [
    "import numpy as np\n",
    "from matplotlib import pyplot as plt"
   ]
  },
  {
   "cell_type": "code",
   "execution_count": 7,
   "metadata": {},
   "outputs": [
    {
     "name": "stdout",
     "output_type": "stream",
     "text": [
      "Found 557 files belonging to 2 classes.\n"
     ]
    }
   ],
   "source": [
    "data = tf.keras.utils.image_dataset_from_directory(data_dir)"
   ]
  },
  {
   "cell_type": "code",
   "execution_count": 8,
   "metadata": {},
   "outputs": [],
   "source": [
    "data_iterator = data.as_numpy_iterator()"
   ]
  },
  {
   "cell_type": "code",
   "execution_count": 9,
   "metadata": {
    "tags": []
   },
   "outputs": [],
   "source": [
    "batch = data_iterator.next()"
   ]
  },
  {
   "cell_type": "code",
   "execution_count": 10,
   "metadata": {},
   "outputs": [
    {
     "data": {
      "text/plain": [
       "(32, 256, 256, 3)"
      ]
     },
     "execution_count": 10,
     "metadata": {},
     "output_type": "execute_result"
    }
   ],
   "source": [
    "batch[0].shape"
   ]
  },
  {
   "cell_type": "code",
   "execution_count": null,
   "metadata": {
    "scrolled": true,
    "tags": []
   },
   "outputs": [],
   "source": [
    "fig, ax = plt.subplots(ncols=4, figsize=(20,20))\n",
    "for idx, img in enumerate(batch[0][:4]):\n",
    "    ax[idx].imshow(img.astype(int))\n",
    "    ax[idx].title.set_text(batch[1][idx])"
   ]
  },
  {
   "cell_type": "markdown",
   "metadata": {},
   "source": [
    "# 4. Scale Data"
   ]
  },
  {
   "cell_type": "code",
   "execution_count": 11,
   "metadata": {
    "scrolled": true
   },
   "outputs": [],
   "source": [
    "data = data.map(lambda x,y: (x/255, y))"
   ]
  },
  {
   "cell_type": "code",
   "execution_count": 12,
   "metadata": {
    "scrolled": true,
    "tags": []
   },
   "outputs": [
    {
     "data": {
      "text/plain": [
       "(array([[[[0.98039216, 0.972549  , 0.9764706 ],\n",
       "          [0.98039216, 0.972549  , 0.9764706 ],\n",
       "          [0.9843137 , 0.9764706 , 0.98039216],\n",
       "          ...,\n",
       "          [1.        , 1.        , 1.        ],\n",
       "          [1.        , 1.        , 1.        ],\n",
       "          [1.        , 1.        , 1.        ]],\n",
       " \n",
       "         [[0.98039216, 0.972549  , 0.9764706 ],\n",
       "          [0.98039216, 0.972549  , 0.9764706 ],\n",
       "          [0.9843137 , 0.9764706 , 0.98039216],\n",
       "          ...,\n",
       "          [1.        , 1.        , 1.        ],\n",
       "          [1.        , 1.        , 1.        ],\n",
       "          [1.        , 1.        , 1.        ]],\n",
       " \n",
       "         [[0.98039216, 0.972549  , 0.9764706 ],\n",
       "          [0.98039216, 0.972549  , 0.9764706 ],\n",
       "          [0.9843137 , 0.9764706 , 0.98039216],\n",
       "          ...,\n",
       "          [1.        , 1.        , 1.        ],\n",
       "          [1.        , 1.        , 1.        ],\n",
       "          [1.        , 1.        , 1.        ]],\n",
       " \n",
       "         ...,\n",
       " \n",
       "         [[0.6968605 , 0.63874084, 0.63693404],\n",
       "          [0.6038744 , 0.5378013 , 0.52963775],\n",
       "          [0.5347294 , 0.461583  , 0.44589671],\n",
       "          ...,\n",
       "          [0.9817555 , 0.97391236, 0.98567706],\n",
       "          [0.98039216, 0.972549  , 0.9843137 ],\n",
       "          [0.97988623, 0.9720431 , 0.9838078 ]],\n",
       " \n",
       "         [[0.70209867, 0.6471967 , 0.6447304 ],\n",
       "          [0.6136795 , 0.55441177, 0.54397976],\n",
       "          [0.5363051 , 0.4657169 , 0.45003062],\n",
       "          ...,\n",
       "          [0.9843137 , 0.9764706 , 0.9882353 ],\n",
       "          [0.98039216, 0.972549  , 0.9843137 ],\n",
       "          [0.98039216, 0.972549  , 0.9843137 ]],\n",
       " \n",
       "         [[0.685049  , 0.63014704, 0.6276808 ],\n",
       "          [0.59916997, 0.5399022 , 0.5294702 ],\n",
       "          [0.5300092 , 0.45942095, 0.44373468],\n",
       "          ...,\n",
       "          [0.9843137 , 0.9764706 , 0.9882353 ],\n",
       "          [0.98039216, 0.972549  , 0.9843137 ],\n",
       "          [0.9818474 , 0.97400427, 0.985769  ]]],\n",
       " \n",
       " \n",
       "        [[[1.        , 1.        , 1.        ],\n",
       "          [1.        , 1.        , 1.        ],\n",
       "          [1.        , 1.        , 1.        ],\n",
       "          ...,\n",
       "          [1.        , 1.        , 1.        ],\n",
       "          [1.        , 1.        , 1.        ],\n",
       "          [1.        , 1.        , 1.        ]],\n",
       " \n",
       "         [[1.        , 1.        , 1.        ],\n",
       "          [1.        , 1.        , 1.        ],\n",
       "          [1.        , 1.        , 1.        ],\n",
       "          ...,\n",
       "          [1.        , 1.        , 1.        ],\n",
       "          [1.        , 1.        , 1.        ],\n",
       "          [1.        , 1.        , 1.        ]],\n",
       " \n",
       "         [[1.        , 1.        , 1.        ],\n",
       "          [1.        , 1.        , 1.        ],\n",
       "          [1.        , 1.        , 1.        ],\n",
       "          ...,\n",
       "          [1.        , 1.        , 1.        ],\n",
       "          [1.        , 1.        , 1.        ],\n",
       "          [1.        , 1.        , 1.        ]],\n",
       " \n",
       "         ...,\n",
       " \n",
       "         [[1.        , 1.        , 1.        ],\n",
       "          [1.        , 1.        , 1.        ],\n",
       "          [1.        , 1.        , 1.        ],\n",
       "          ...,\n",
       "          [1.        , 1.        , 1.        ],\n",
       "          [1.        , 1.        , 1.        ],\n",
       "          [1.        , 1.        , 1.        ]],\n",
       " \n",
       "         [[1.        , 1.        , 1.        ],\n",
       "          [1.        , 1.        , 1.        ],\n",
       "          [1.        , 1.        , 1.        ],\n",
       "          ...,\n",
       "          [1.        , 1.        , 1.        ],\n",
       "          [1.        , 1.        , 1.        ],\n",
       "          [1.        , 1.        , 1.        ]],\n",
       " \n",
       "         [[1.        , 1.        , 1.        ],\n",
       "          [1.        , 1.        , 1.        ],\n",
       "          [1.        , 1.        , 1.        ],\n",
       "          ...,\n",
       "          [1.        , 1.        , 1.        ],\n",
       "          [1.        , 1.        , 1.        ],\n",
       "          [1.        , 1.        , 1.        ]]],\n",
       " \n",
       " \n",
       "        [[[1.        , 1.        , 1.        ],\n",
       "          [1.        , 1.        , 1.        ],\n",
       "          [1.        , 1.        , 1.        ],\n",
       "          ...,\n",
       "          [1.        , 1.        , 1.        ],\n",
       "          [1.        , 1.        , 1.        ],\n",
       "          [1.        , 1.        , 1.        ]],\n",
       " \n",
       "         [[1.        , 1.        , 1.        ],\n",
       "          [1.        , 1.        , 1.        ],\n",
       "          [1.        , 1.        , 1.        ],\n",
       "          ...,\n",
       "          [1.        , 1.        , 1.        ],\n",
       "          [1.        , 1.        , 1.        ],\n",
       "          [1.        , 1.        , 1.        ]],\n",
       " \n",
       "         [[1.        , 1.        , 1.        ],\n",
       "          [1.        , 1.        , 1.        ],\n",
       "          [1.        , 1.        , 1.        ],\n",
       "          ...,\n",
       "          [1.        , 1.        , 1.        ],\n",
       "          [1.        , 1.        , 1.        ],\n",
       "          [1.        , 1.        , 1.        ]],\n",
       " \n",
       "         ...,\n",
       " \n",
       "         [[1.        , 1.        , 1.        ],\n",
       "          [1.        , 1.        , 1.        ],\n",
       "          [1.        , 1.        , 1.        ],\n",
       "          ...,\n",
       "          [1.        , 1.        , 1.        ],\n",
       "          [1.        , 1.        , 1.        ],\n",
       "          [1.        , 1.        , 1.        ]],\n",
       " \n",
       "         [[1.        , 1.        , 1.        ],\n",
       "          [1.        , 1.        , 1.        ],\n",
       "          [1.        , 1.        , 1.        ],\n",
       "          ...,\n",
       "          [1.        , 1.        , 1.        ],\n",
       "          [1.        , 1.        , 1.        ],\n",
       "          [1.        , 1.        , 1.        ]],\n",
       " \n",
       "         [[1.        , 1.        , 1.        ],\n",
       "          [1.        , 1.        , 1.        ],\n",
       "          [1.        , 1.        , 1.        ],\n",
       "          ...,\n",
       "          [1.        , 1.        , 1.        ],\n",
       "          [1.        , 1.        , 1.        ],\n",
       "          [1.        , 1.        , 1.        ]]],\n",
       " \n",
       " \n",
       "        ...,\n",
       " \n",
       " \n",
       "        [[[0.00784314, 0.3019608 , 0.03137255],\n",
       "          [0.01470588, 0.30882353, 0.0382353 ],\n",
       "          [0.00392157, 0.32156864, 0.02352941],\n",
       "          ...,\n",
       "          [0.2646446 , 0.4920956 , 0.06072304],\n",
       "          [0.27794117, 0.52414215, 0.08731618],\n",
       "          [0.26600796, 0.51220894, 0.07538296]],\n",
       " \n",
       "         [[0.00784314, 0.3019608 , 0.03137255],\n",
       "          [0.01470588, 0.30882353, 0.0382353 ],\n",
       "          [0.00392157, 0.32156864, 0.02352941],\n",
       "          ...,\n",
       "          [0.25949755, 0.48694852, 0.05557598],\n",
       "          [0.2864124 , 0.5145374 , 0.08316483],\n",
       "          [0.28022364, 0.50834864, 0.07697611]],\n",
       " \n",
       "         [[0.        , 0.29313725, 0.02254902],\n",
       "          [0.00784314, 0.3019608 , 0.03137255],\n",
       "          [0.        , 0.3137255 , 0.01568628],\n",
       "          ...,\n",
       "          [0.25073528, 0.47818628, 0.04681373],\n",
       "          [0.28253677, 0.4903799 , 0.06685049],\n",
       "          [0.30882353, 0.51666665, 0.09313726]],\n",
       " \n",
       "         ...,\n",
       " \n",
       "         [[0.32628676, 0.46746323, 0.21648285],\n",
       "          [0.31931677, 0.4801011 , 0.22127758],\n",
       "          [0.34200367, 0.46651348, 0.23416054],\n",
       "          ...,\n",
       "          [0.40900734, 0.5658701 , 0.35802695],\n",
       "          [0.41277573, 0.5657169 , 0.3421875 ],\n",
       "          [0.38670343, 0.55925244, 0.31219363]],\n",
       " \n",
       "         [[0.3259957 , 0.48678002, 0.22795649],\n",
       "          [0.3372549 , 0.47843137, 0.22745098],\n",
       "          [0.34344363, 0.48069853, 0.22971813],\n",
       "          ...,\n",
       "          [0.42807904, 0.58788294, 0.382981  ],\n",
       "          [0.41121325, 0.57824755, 0.37737438],\n",
       "          [0.42101717, 0.5444393 , 0.34485295]],\n",
       " \n",
       "         [[0.3327359 , 0.49352023, 0.23469669],\n",
       "          [0.3372549 , 0.47843137, 0.22745098],\n",
       "          [0.3460631 , 0.483318  , 0.23233762],\n",
       "          ...,\n",
       "          [0.47241116, 0.6292739 , 0.42437193],\n",
       "          [0.3384957 , 0.55801165, 0.2985141 ],\n",
       "          [0.3839461 , 0.5509038 , 0.29630822]]],\n",
       " \n",
       " \n",
       "        [[[1.        , 1.        , 1.        ],\n",
       "          [1.        , 1.        , 1.        ],\n",
       "          [1.        , 1.        , 1.        ],\n",
       "          ...,\n",
       "          [1.        , 1.        , 1.        ],\n",
       "          [1.        , 1.        , 1.        ],\n",
       "          [1.        , 1.        , 1.        ]],\n",
       " \n",
       "         [[1.        , 1.        , 1.        ],\n",
       "          [1.        , 1.        , 1.        ],\n",
       "          [1.        , 1.        , 1.        ],\n",
       "          ...,\n",
       "          [1.        , 1.        , 1.        ],\n",
       "          [1.        , 1.        , 1.        ],\n",
       "          [1.        , 1.        , 1.        ]],\n",
       " \n",
       "         [[1.        , 1.        , 1.        ],\n",
       "          [1.        , 1.        , 1.        ],\n",
       "          [1.        , 1.        , 1.        ],\n",
       "          ...,\n",
       "          [1.        , 1.        , 1.        ],\n",
       "          [1.        , 1.        , 1.        ],\n",
       "          [1.        , 1.        , 1.        ]],\n",
       " \n",
       "         ...,\n",
       " \n",
       "         [[1.        , 1.        , 1.        ],\n",
       "          [1.        , 1.        , 1.        ],\n",
       "          [1.        , 1.        , 1.        ],\n",
       "          ...,\n",
       "          [0.74576056, 0.75369465, 0.74986404],\n",
       "          [0.98849094, 0.9933316 , 0.99276674],\n",
       "          [0.97929686, 0.98744637, 0.98383117]],\n",
       " \n",
       "         [[1.        , 1.        , 1.        ],\n",
       "          [1.        , 1.        , 1.        ],\n",
       "          [1.        , 1.        , 1.        ],\n",
       "          ...,\n",
       "          [0.9323012 , 0.94243544, 0.94087964],\n",
       "          [0.98251665, 0.99497163, 0.995662  ],\n",
       "          [0.96151483, 0.9772011 , 0.9811227 ]],\n",
       " \n",
       "         [[1.        , 1.        , 1.        ],\n",
       "          [1.        , 1.        , 1.        ],\n",
       "          [1.        , 1.        , 1.        ],\n",
       "          ...,\n",
       "          [0.9914216 , 1.        , 1.        ],\n",
       "          [0.9740196 , 0.98970586, 0.9936274 ],\n",
       "          [0.96642154, 0.9821078 , 0.9860294 ]]],\n",
       " \n",
       " \n",
       "        [[[0.7490196 , 0.7529412 , 0.72156864],\n",
       "          [0.7490196 , 0.7529412 , 0.72156864],\n",
       "          [0.7490196 , 0.7529412 , 0.72156864],\n",
       "          ...,\n",
       "          [0.8       , 0.78431374, 0.77254903],\n",
       "          [0.8       , 0.78431374, 0.77254903],\n",
       "          [0.8       , 0.78431374, 0.77254903]],\n",
       " \n",
       "         [[0.7490196 , 0.7529412 , 0.72156864],\n",
       "          [0.7490196 , 0.7529412 , 0.72156864],\n",
       "          [0.7490196 , 0.7529412 , 0.72156864],\n",
       "          ...,\n",
       "          [0.8       , 0.78431374, 0.77254903],\n",
       "          [0.8       , 0.78431374, 0.77254903],\n",
       "          [0.8       , 0.78431374, 0.77254903]],\n",
       " \n",
       "         [[0.7490196 , 0.7529412 , 0.72156864],\n",
       "          [0.7490196 , 0.7529412 , 0.72156864],\n",
       "          [0.7490196 , 0.7529412 , 0.72156864],\n",
       "          ...,\n",
       "          [0.8       , 0.78431374, 0.77254903],\n",
       "          [0.8       , 0.78431374, 0.77254903],\n",
       "          [0.8       , 0.78431374, 0.77254903]],\n",
       " \n",
       "         ...,\n",
       " \n",
       "         [[0.53995097, 0.45159313, 0.42745098],\n",
       "          [0.54509807, 0.44705883, 0.42745098],\n",
       "          [0.5529412 , 0.44313726, 0.42745098],\n",
       "          ...,\n",
       "          [0.5647059 , 0.4745098 , 0.4509804 ],\n",
       "          [0.5529412 , 0.4627451 , 0.4392157 ],\n",
       "          [0.5529412 , 0.4627451 , 0.4392157 ]],\n",
       " \n",
       "         [[0.5402286 , 0.4514543 , 0.42745098],\n",
       "          [0.54509807, 0.44705883, 0.42745098],\n",
       "          [0.5529412 , 0.44313726, 0.42745098],\n",
       "          ...,\n",
       "          [0.56951594, 0.47931984, 0.45579043],\n",
       "          [0.55775124, 0.46755514, 0.44402573],\n",
       "          [0.55775124, 0.46755514, 0.44402573]],\n",
       " \n",
       "         [[0.54509807, 0.44705883, 0.42745098],\n",
       "          [0.54509807, 0.44705883, 0.42745098],\n",
       "          [0.5529412 , 0.45490196, 0.43529412],\n",
       "          ...,\n",
       "          [0.5734069 , 0.48321077, 0.45968136],\n",
       "          [0.5686275 , 0.47843137, 0.45490196],\n",
       "          [0.5686275 , 0.47843137, 0.45490196]]]], dtype=float32),\n",
       " array([0, 0, 1, 1, 1, 0, 1, 0, 0, 1, 0, 0, 1, 1, 0, 1, 1, 1, 0, 1, 1, 0,\n",
       "        0, 0, 0, 1, 0, 0, 1, 0, 0, 1]))"
      ]
     },
     "execution_count": 12,
     "metadata": {},
     "output_type": "execute_result"
    }
   ],
   "source": [
    "data.as_numpy_iterator().next()"
   ]
  },
  {
   "cell_type": "markdown",
   "metadata": {},
   "source": [
    "# 5. Split Data"
   ]
  },
  {
   "cell_type": "code",
   "execution_count": 13,
   "metadata": {},
   "outputs": [],
   "source": [
    "train_size = int(len(data)*.8)\n",
    "val_size = int(len(data)*.2)+1"
   ]
  },
  {
   "cell_type": "code",
   "execution_count": 14,
   "metadata": {},
   "outputs": [
    {
     "data": {
      "text/plain": [
       "14"
      ]
     },
     "execution_count": 14,
     "metadata": {},
     "output_type": "execute_result"
    }
   ],
   "source": [
    "train_size"
   ]
  },
  {
   "cell_type": "code",
   "execution_count": 15,
   "metadata": {},
   "outputs": [],
   "source": [
    "train = data.take(train_size)\n",
    "val = data.skip(train_size).take(val_size)"
   ]
  },
  {
   "cell_type": "markdown",
   "metadata": {},
   "source": [
    "# 6. Build Deep Learning Model"
   ]
  },
  {
   "cell_type": "code",
   "execution_count": 16,
   "metadata": {},
   "outputs": [
    {
     "data": {
      "text/plain": [
       "<TakeDataset element_spec=(TensorSpec(shape=(None, 256, 256, 3), dtype=tf.float32, name=None), TensorSpec(shape=(None,), dtype=tf.int32, name=None))>"
      ]
     },
     "execution_count": 16,
     "metadata": {},
     "output_type": "execute_result"
    }
   ],
   "source": [
    "train"
   ]
  },
  {
   "cell_type": "code",
   "execution_count": 17,
   "metadata": {},
   "outputs": [],
   "source": [
    "from tensorflow.keras.models import Sequential\n",
    "from tensorflow.keras.layers import Conv2D, MaxPooling2D, Dense, Flatten, Dropout"
   ]
  },
  {
   "cell_type": "code",
   "execution_count": 16,
   "metadata": {},
   "outputs": [],
   "source": [
    "model = Sequential()"
   ]
  },
  {
   "cell_type": "code",
   "execution_count": 17,
   "metadata": {},
   "outputs": [],
   "source": [
    "model.add(Conv2D(16, (3,3), 1, activation='relu', input_shape=(256,256,3)))\n",
    "model.add(MaxPooling2D())\n",
    "model.add(Conv2D(32, (3,3), 1, activation='relu'))\n",
    "model.add(MaxPooling2D())\n",
    "model.add(Conv2D(16, (3,3), 1, activation='relu'))\n",
    "model.add(MaxPooling2D())\n",
    "model.add(Flatten())\n",
    "model.add(Dense(256, activation='relu'))\n",
    "model.add(Dense(1, activation='sigmoid'))"
   ]
  },
  {
   "cell_type": "code",
   "execution_count": 18,
   "metadata": {},
   "outputs": [],
   "source": [
    "model.compile('adam', loss=tf.losses.BinaryCrossentropy(), metrics=['accuracy'])"
   ]
  },
  {
   "cell_type": "code",
   "execution_count": 19,
   "metadata": {
    "tags": []
   },
   "outputs": [
    {
     "name": "stdout",
     "output_type": "stream",
     "text": [
      "Model: \"sequential\"\n",
      "_________________________________________________________________\n",
      " Layer (type)                Output Shape              Param #   \n",
      "=================================================================\n",
      " conv2d (Conv2D)             (None, 254, 254, 16)      448       \n",
      "                                                                 \n",
      " max_pooling2d (MaxPooling2D  (None, 127, 127, 16)     0         \n",
      " )                                                               \n",
      "                                                                 \n",
      " conv2d_1 (Conv2D)           (None, 125, 125, 32)      4640      \n",
      "                                                                 \n",
      " max_pooling2d_1 (MaxPooling  (None, 62, 62, 32)       0         \n",
      " 2D)                                                             \n",
      "                                                                 \n",
      " conv2d_2 (Conv2D)           (None, 60, 60, 16)        4624      \n",
      "                                                                 \n",
      " max_pooling2d_2 (MaxPooling  (None, 30, 30, 16)       0         \n",
      " 2D)                                                             \n",
      "                                                                 \n",
      " flatten (Flatten)           (None, 14400)             0         \n",
      "                                                                 \n",
      " dense (Dense)               (None, 256)               3686656   \n",
      "                                                                 \n",
      " dense_1 (Dense)             (None, 1)                 257       \n",
      "                                                                 \n",
      "=================================================================\n",
      "Total params: 3,696,625\n",
      "Trainable params: 3,696,625\n",
      "Non-trainable params: 0\n",
      "_________________________________________________________________\n"
     ]
    }
   ],
   "source": [
    "model.summary()"
   ]
  },
  {
   "cell_type": "markdown",
   "metadata": {},
   "source": [
    "# 7. Train"
   ]
  },
  {
   "cell_type": "code",
   "execution_count": 20,
   "metadata": {},
   "outputs": [],
   "source": [
    "logdir='logs'"
   ]
  },
  {
   "cell_type": "code",
   "execution_count": 21,
   "metadata": {},
   "outputs": [],
   "source": [
    "tensorboard_callback = tf.keras.callbacks.TensorBoard(log_dir=logdir)"
   ]
  },
  {
   "cell_type": "code",
   "execution_count": 22,
   "metadata": {
    "scrolled": false,
    "tags": []
   },
   "outputs": [
    {
     "name": "stdout",
     "output_type": "stream",
     "text": [
      "Epoch 1/20\n",
      "14/14 [==============================] - 23s 1s/step - loss: 1.0080 - accuracy: 0.4576 - val_loss: 0.6979 - val_accuracy: 0.5229\n",
      "Epoch 2/20\n",
      "14/14 [==============================] - 17s 1s/step - loss: 0.6952 - accuracy: 0.4710 - val_loss: 0.6936 - val_accuracy: 0.4404\n",
      "Epoch 3/20\n",
      "14/14 [==============================] - 16s 1s/step - loss: 0.6879 - accuracy: 0.5156 - val_loss: 0.6791 - val_accuracy: 0.5596\n",
      "Epoch 4/20\n",
      "14/14 [==============================] - 17s 1s/step - loss: 0.6787 - accuracy: 0.5536 - val_loss: 0.6561 - val_accuracy: 0.7431\n",
      "Epoch 5/20\n",
      "14/14 [==============================] - 18s 1s/step - loss: 0.6696 - accuracy: 0.6808 - val_loss: 0.6290 - val_accuracy: 0.7248\n",
      "Epoch 6/20\n",
      "14/14 [==============================] - 18s 1s/step - loss: 0.6138 - accuracy: 0.7344 - val_loss: 0.5659 - val_accuracy: 0.7156\n",
      "Epoch 7/20\n",
      "14/14 [==============================] - 16s 1s/step - loss: 0.5365 - accuracy: 0.7478 - val_loss: 0.5051 - val_accuracy: 0.7156\n",
      "Epoch 8/20\n",
      "14/14 [==============================] - 17s 1s/step - loss: 0.4219 - accuracy: 0.8147 - val_loss: 0.3603 - val_accuracy: 0.8624\n",
      "Epoch 9/20\n",
      "14/14 [==============================] - 17s 1s/step - loss: 0.3500 - accuracy: 0.8482 - val_loss: 0.2933 - val_accuracy: 0.9083\n",
      "Epoch 10/20\n",
      "14/14 [==============================] - 17s 1s/step - loss: 0.2715 - accuracy: 0.9040 - val_loss: 0.1298 - val_accuracy: 0.9725\n",
      "Epoch 11/20\n",
      "14/14 [==============================] - 15s 1s/step - loss: 0.1697 - accuracy: 0.9442 - val_loss: 0.1344 - val_accuracy: 0.9450\n",
      "Epoch 12/20\n",
      "14/14 [==============================] - 17s 1s/step - loss: 0.1126 - accuracy: 0.9799 - val_loss: 0.0851 - val_accuracy: 0.9633\n",
      "Epoch 13/20\n",
      "14/14 [==============================] - 17s 1s/step - loss: 0.1021 - accuracy: 0.9799 - val_loss: 0.0653 - val_accuracy: 0.9908\n",
      "Epoch 14/20\n",
      "14/14 [==============================] - 18s 1s/step - loss: 0.0582 - accuracy: 0.9933 - val_loss: 0.0288 - val_accuracy: 1.0000\n",
      "Epoch 15/20\n",
      "14/14 [==============================] - 16s 1s/step - loss: 0.0676 - accuracy: 0.9665 - val_loss: 0.0646 - val_accuracy: 0.9725\n",
      "Epoch 16/20\n",
      "14/14 [==============================] - 16s 1s/step - loss: 0.0555 - accuracy: 0.9844 - val_loss: 0.0301 - val_accuracy: 1.0000\n",
      "Epoch 17/20\n",
      "14/14 [==============================] - 17s 1s/step - loss: 0.0231 - accuracy: 0.9978 - val_loss: 0.0085 - val_accuracy: 1.0000\n",
      "Epoch 18/20\n",
      "14/14 [==============================] - 17s 1s/step - loss: 0.0093 - accuracy: 1.0000 - val_loss: 0.0142 - val_accuracy: 1.0000\n",
      "Epoch 19/20\n",
      "14/14 [==============================] - 16s 1s/step - loss: 0.0068 - accuracy: 1.0000 - val_loss: 0.0040 - val_accuracy: 1.0000\n",
      "Epoch 20/20\n",
      "14/14 [==============================] - 16s 1s/step - loss: 0.0082 - accuracy: 0.9978 - val_loss: 0.0044 - val_accuracy: 1.0000\n"
     ]
    }
   ],
   "source": [
    "hist = model.fit(train, epochs=20, validation_data=val, callbacks=[tensorboard_callback])"
   ]
  },
  {
   "cell_type": "markdown",
   "metadata": {},
   "source": [
    "# 8. Plot Performance"
   ]
  },
  {
   "cell_type": "code",
   "execution_count": null,
   "metadata": {},
   "outputs": [],
   "source": [
    "fig = plt.figure()\n",
    "plt.plot(hist.history['loss'], color='teal', label='loss')\n",
    "plt.plot(hist.history['val_loss'], color='orange', label='val_loss')\n",
    "fig.suptitle('Loss', fontsize=20)\n",
    "plt.legend(loc=\"upper left\")\n",
    "plt.show()"
   ]
  },
  {
   "cell_type": "code",
   "execution_count": null,
   "metadata": {},
   "outputs": [],
   "source": [
    "fig = plt.figure()\n",
    "plt.plot(hist.history['accuracy'], color='teal', label='accuracy')\n",
    "plt.plot(hist.history['val_accuracy'], color='orange', label='val_accuracy')\n",
    "fig.suptitle('Accuracy', fontsize=20)\n",
    "plt.legend(loc=\"upper left\")\n",
    "plt.show()"
   ]
  },
  {
   "cell_type": "markdown",
   "metadata": {},
   "source": [
    "# 9. Evaluate"
   ]
  },
  {
   "cell_type": "code",
   "execution_count": null,
   "metadata": {},
   "outputs": [],
   "source": [
    "from tensorflow.keras.metrics import Precision, Recall, BinaryAccuracy"
   ]
  },
  {
   "cell_type": "code",
   "execution_count": null,
   "metadata": {},
   "outputs": [],
   "source": [
    "pre = Precision()\n",
    "re = Recall()\n",
    "acc = BinaryAccuracy()"
   ]
  },
  {
   "cell_type": "code",
   "execution_count": null,
   "metadata": {},
   "outputs": [],
   "source": [
    "for batch in test.as_numpy_iterator(): \n",
    "    X, y = batch\n",
    "    yhat = model.predict(X)\n",
    "    pre.update_state(y, yhat)\n",
    "    re.update_state(y, yhat)\n",
    "    acc.update_state(y, yhat)"
   ]
  },
  {
   "cell_type": "code",
   "execution_count": null,
   "metadata": {},
   "outputs": [],
   "source": [
    "print(pre.result(), re.result(), acc.result())"
   ]
  },
  {
   "cell_type": "markdown",
   "metadata": {},
   "source": [
    "# 10. Test"
   ]
  },
  {
   "cell_type": "code",
   "execution_count": null,
   "metadata": {},
   "outputs": [],
   "source": [
    "import cv2"
   ]
  },
  {
   "cell_type": "code",
   "execution_count": null,
   "metadata": {},
   "outputs": [],
   "source": [
    "img = cv2.imread('pic_11.jpg')\n",
    "plt.imshow(img)\n",
    "plt.show()"
   ]
  },
  {
   "cell_type": "code",
   "execution_count": null,
   "metadata": {},
   "outputs": [],
   "source": [
    "resize = tf.image.resize(img, (256,256))\n",
    "plt.imshow(resize.numpy().astype(int))\n",
    "plt.show()"
   ]
  },
  {
   "cell_type": "code",
   "execution_count": null,
   "metadata": {},
   "outputs": [],
   "source": [
    "yhat = model.predict(np.expand_dims(resize/255, 0))"
   ]
  },
  {
   "cell_type": "code",
   "execution_count": null,
   "metadata": {},
   "outputs": [],
   "source": [
    "yhat"
   ]
  },
  {
   "cell_type": "code",
   "execution_count": null,
   "metadata": {},
   "outputs": [],
   "source": [
    "if yhat > 0.5: \n",
    "    print(f'Predicted class is Dog')\n",
    "else:\n",
    "    print(f'Predicted class is Cat')"
   ]
  },
  {
   "cell_type": "markdown",
   "metadata": {},
   "source": [
    "# 11. Save the Model"
   ]
  },
  {
   "cell_type": "code",
   "execution_count": null,
   "metadata": {},
   "outputs": [],
   "source": [
    "from tensorflow.keras.models import load_model"
   ]
  },
  {
   "cell_type": "code",
   "execution_count": null,
   "metadata": {},
   "outputs": [],
   "source": [
    "model.save(os.path.join('models','imageclassifier.h5'))"
   ]
  },
  {
   "cell_type": "code",
   "execution_count": null,
   "metadata": {},
   "outputs": [],
   "source": [
    "new_model = load_model('imageclassifier.h5')"
   ]
  },
  {
   "cell_type": "code",
   "execution_count": null,
   "metadata": {},
   "outputs": [],
   "source": [
    "new_model.predict(np.expand_dims(resize/255, 0))"
   ]
  }
 ],
 "metadata": {
  "kernelspec": {
   "display_name": "Python 3 (ipykernel)",
   "language": "python",
   "name": "python3"
  },
  "language_info": {
   "codemirror_mode": {
    "name": "ipython",
    "version": 3
   },
   "file_extension": ".py",
   "mimetype": "text/x-python",
   "name": "python",
   "nbconvert_exporter": "python",
   "pygments_lexer": "ipython3",
   "version": "3.9.18"
  }
 },
 "nbformat": 4,
 "nbformat_minor": 4
}
